{
 "cells": [
  {
   "cell_type": "markdown",
   "id": "44b52115-ce4b-443b-8774-58f5fb7e5d9d",
   "metadata": {},
   "source": [
    "#### Import Necessary Libraries"
   ]
  },
  {
   "cell_type": "code",
   "execution_count": 3,
   "id": "9b9353e2-a33c-4dba-9e46-e71201f34da4",
   "metadata": {},
   "outputs": [],
   "source": [
    "import os\n",
    "import json\n",
    "import numpy\n",
    "import datetime\n",
    "import certifi\n",
    "import pandas as pd\n",
    "\n",
    "import pymongo\n",
    "import sqlalchemy\n",
    "from sqlalchemy import create_engine, text"
   ]
  },
  {
   "cell_type": "code",
   "execution_count": 5,
   "id": "bbdea8c8-ef99-4928-af3d-b02de8ab9064",
   "metadata": {},
   "outputs": [],
   "source": [
    "import pymysql"
   ]
  },
  {
   "cell_type": "markdown",
   "id": "2bbb5e62-89ad-4db8-9fc5-1db49fa22151",
   "metadata": {},
   "source": [
    "#### Check to make sure imported"
   ]
  },
  {
   "cell_type": "code",
   "execution_count": 8,
   "id": "dfe27ab3-2e8a-4d54-badb-48372a2a97c9",
   "metadata": {},
   "outputs": [
    {
     "name": "stdout",
     "output_type": "stream",
     "text": [
      "Running SQL Alchemy Version: 2.0.30\n",
      "Running PyMongo Version: 4.10.1\n"
     ]
    }
   ],
   "source": [
    "print(f\"Running SQL Alchemy Version: {sqlalchemy.__version__}\")\n",
    "print(f\"Running PyMongo Version: {pymongo.__version__}\")"
   ]
  },
  {
   "cell_type": "markdown",
   "id": "a2ae88c8-1ddc-4117-a158-704a4a15f2a1",
   "metadata": {},
   "source": [
    "#### Connect to MySQL and MongoDB"
   ]
  },
  {
   "cell_type": "code",
   "execution_count": 11,
   "id": "6ab0eb03-3e4f-44df-8dda-22c4d94dbc86",
   "metadata": {},
   "outputs": [],
   "source": [
    "host_name = \"localhost\"\n",
    "port = \"3306\"\n",
    "user_id = \"root\"\n",
    "pwd = \"warriors21!\"\n",
    "\n",
    "src_dbname = \"sakila\"\n",
    "dst_dbname = \"sakila_dw\"\n",
    "\n",
    "mysql_args = {\n",
    "    \"uid\" : \"root\",\n",
    "    \"pwd\" : \"warriors21!\",\n",
    "    \"hostname\" : \"localhost\",\n",
    "    \"dbname\" : \"sakila_dw\"\n",
    "}\n",
    "\n",
    "# The 'cluster_location' must either be \"atlas\" or \"local\".\n",
    "mongodb_args = {\n",
    "    \"user_name\" : \"kpunsalan\",\n",
    "    \"password\" : \"GoHoos123\",\n",
    "    \"cluster_name\" : \"Cluster0KP\",\n",
    "    \"cluster_subnet\" : \"vcr5b\",\n",
    "    \"cluster_location\" : \"atlas\", # \"local\"\n",
    "    \"db_name\" : \"sakila_category\"\n",
    "}"
   ]
  },
  {
   "cell_type": "markdown",
   "id": "11c5d405-dbc4-4469-83d9-e31ca1a0b97a",
   "metadata": {},
   "source": [
    "#### Define Functions for Getting Data and Setting Into Databases from SQL and MongoDB"
   ]
  },
  {
   "cell_type": "code",
   "execution_count": 14,
   "id": "f0586089-4c23-4c6c-983e-b6746269ca40",
   "metadata": {},
   "outputs": [],
   "source": [
    "def get_sql_dataframe(sql_query, **args):\n",
    "    '''Create a connection to the MySQL database'''\n",
    "    conn_str = f\"mysql+pymysql://{args['uid']}:{args['pwd']}@{args['hostname']}/{args['dbname']}\"\n",
    "    sqlEngine = create_engine(conn_str, pool_recycle=3600)\n",
    "    connection = sqlEngine.connect()\n",
    "    \n",
    "    '''Invoke the pd.read_sql() function to query the database, and fill a Pandas DataFrame.'''\n",
    "    dframe = pd.read_sql(text(sql_query), connection);\n",
    "    connection.close()\n",
    "    \n",
    "    return dframe\n",
    "\n",
    "def get_dataframe(user_id, pwd, host_name, db_name, sql_query):\n",
    "    conn_str = f\"mysql+pymysql://{user_id}:{pwd}@{host_name}/{db_name}\"\n",
    "    sqlEngine = create_engine(conn_str, pool_recycle=3600)\n",
    "    connection = sqlEngine.connect()\n",
    "    dframe = pd.read_sql(sql_query, connection);\n",
    "    connection.close()\n",
    "    \n",
    "    return dframe\n",
    "    \n",
    "\n",
    "def set_sql_dataframe(df, table_name, pk_column, db_operation, **args):\n",
    "    '''Create a connection to the MySQL database'''\n",
    "    conn_str = f\"mysql+pymysql://{args['uid']}:{args['pwd']}@{args['hostname']}/{args['dbname']}\"\n",
    "    sqlEngine = create_engine(conn_str, pool_recycle=3600)\n",
    "    connection = sqlEngine.connect()\n",
    "    \n",
    "    '''Invoke the Pandas DataFrame .to_sql( ) function to either create, or append to, a table'''\n",
    "    if db_operation == \"insert\":\n",
    "        df.to_sql(table_name, con=connection, index=False, if_exists='replace')\n",
    "        connection.execute(text(f\"ALTER TABLE {table_name} ADD PRIMARY KEY ({pk_column});\"))\n",
    "            \n",
    "    elif db_operation == \"update\":\n",
    "        df.to_sql(table_name, con=connection, index=False, if_exists='append')\n",
    "    \n",
    "    connection.close()\n",
    "\n",
    "def set_dataframe(user_id, pwd, host_name, db_name, df, table_name, pk_column, db_operation):\n",
    "    conn_str = f\"mysql+pymysql://{user_id}:{pwd}@{host_name}/{db_name}\"\n",
    "    sqlEngine = create_engine(conn_str, pool_recycle=3600)\n",
    "    connection = sqlEngine.connect()\n",
    "    \n",
    "    if db_operation == \"insert\":\n",
    "        df.to_sql(table_name, con=connection, index=False, if_exists='replace')\n",
    "        connection.execute(text(f\"ALTER TABLE {table_name} ADD PRIMARY KEY ({pk_column});\"))\n",
    "            \n",
    "    elif db_operation == \"update\":\n",
    "        df.to_sql(table_name, con=connection, index=False, if_exists='append')\n",
    "    \n",
    "    connection.close()\n",
    "\n",
    "\n",
    "def get_mongo_client(**args):\n",
    "    '''Validate proper input'''\n",
    "    if args[\"cluster_location\"] not in ['atlas', 'local']:\n",
    "        raise Exception(\"You must specify either 'atlas' or 'local' for the cluster_location parameter.\")\n",
    "    \n",
    "    else:\n",
    "        if args[\"cluster_location\"] == \"atlas\":\n",
    "            connect_str = f\"mongodb+srv://{args['user_name']}:{args['password']}@\"\n",
    "            connect_str += f\"{args['cluster_name']}.{args['cluster_subnet']}.mongodb.net\"\n",
    "            client = pymongo.MongoClient(connect_str, tlsCAFile=certifi.where())\n",
    "            \n",
    "        elif args[\"cluster_location\"] == \"local\":\n",
    "            client = pymongo.MongoClient(\"mongodb://localhost:27017/\")\n",
    "        \n",
    "    return client\n",
    "\n",
    "\n",
    "def get_mongo_dataframe(mongo_client, db_name, collection, query):\n",
    "    '''Query MongoDB, and fill a python list with documents to create a DataFrame'''\n",
    "    db = mongo_client[db_name]\n",
    "    dframe = pd.DataFrame(list(db[collection].find(query)))\n",
    "    dframe.drop(['_id'], axis=1, inplace=True)\n",
    "    mongo_client.close()\n",
    "    \n",
    "    return dframe\n",
    "\n",
    "\n",
    "def set_mongo_collections(mongo_client, db_name, data_directory, json_files):\n",
    "    db = mongo_client[db_name]\n",
    "    \n",
    "    for file in json_files:\n",
    "        db.drop_collection(file)\n",
    "        json_file = os.path.join(data_directory, json_files[file])\n",
    "        with open(json_file, 'r') as openfile:\n",
    "            json_object = json.load(openfile)\n",
    "            file = db[file]\n",
    "            result = file.insert_many(json_object)\n",
    "        \n",
    "    mongo_client.close()"
   ]
  },
  {
   "cell_type": "markdown",
   "id": "f19394db-f542-449d-97f5-68e37fd0db11",
   "metadata": {},
   "source": [
    "#### Create the new sakila_dw database as target of operations"
   ]
  },
  {
   "cell_type": "code",
   "execution_count": 17,
   "id": "6fe2db88-bdbb-44f5-9f07-a2c047a541e6",
   "metadata": {},
   "outputs": [],
   "source": [
    "conn_str = f\"mysql+pymysql://{user_id}:{pwd}@{host_name}\"\n",
    "sqlEngine = create_engine(conn_str, pool_recycle=3600)\n",
    "connection = sqlEngine.connect()\n",
    "\n",
    "connection.execute(text(f\"DROP DATABASE IF EXISTS `{dst_dbname}`;\"))\n",
    "connection.execute(text(f\"CREATE DATABASE `{dst_dbname}`;\"))\n",
    "connection.execute(text(f\"USE {dst_dbname};\"))\n",
    "\n",
    "connection.close()"
   ]
  },
  {
   "cell_type": "markdown",
   "id": "7be1abaa-429d-421f-a0cd-e214edb6710f",
   "metadata": {},
   "source": [
    "### Extract data for dim tables from MySQL (Films)"
   ]
  },
  {
   "cell_type": "code",
   "execution_count": 20,
   "id": "41bb3627-5529-42e6-ad57-4bd4fc2d752e",
   "metadata": {},
   "outputs": [
    {
     "data": {
      "text/html": [
       "<div>\n",
       "<style scoped>\n",
       "    .dataframe tbody tr th:only-of-type {\n",
       "        vertical-align: middle;\n",
       "    }\n",
       "\n",
       "    .dataframe tbody tr th {\n",
       "        vertical-align: top;\n",
       "    }\n",
       "\n",
       "    .dataframe thead th {\n",
       "        text-align: right;\n",
       "    }\n",
       "</style>\n",
       "<table border=\"1\" class=\"dataframe\">\n",
       "  <thead>\n",
       "    <tr style=\"text-align: right;\">\n",
       "      <th></th>\n",
       "      <th>film_id</th>\n",
       "      <th>title</th>\n",
       "      <th>description</th>\n",
       "      <th>release_year</th>\n",
       "      <th>language_id</th>\n",
       "      <th>original_language_id</th>\n",
       "      <th>rental_duration</th>\n",
       "      <th>rental_rate</th>\n",
       "      <th>length</th>\n",
       "      <th>replacement_cost</th>\n",
       "      <th>rating</th>\n",
       "      <th>special_features</th>\n",
       "      <th>last_update</th>\n",
       "    </tr>\n",
       "  </thead>\n",
       "  <tbody>\n",
       "    <tr>\n",
       "      <th>0</th>\n",
       "      <td>1</td>\n",
       "      <td>ACADEMY DINOSAUR</td>\n",
       "      <td>A Epic Drama of a Feminist And a Mad Scientist...</td>\n",
       "      <td>2006</td>\n",
       "      <td>1</td>\n",
       "      <td>None</td>\n",
       "      <td>6</td>\n",
       "      <td>0.99</td>\n",
       "      <td>86</td>\n",
       "      <td>20.99</td>\n",
       "      <td>PG</td>\n",
       "      <td>Deleted Scenes,Behind the Scenes</td>\n",
       "      <td>2006-02-15 05:03:42</td>\n",
       "    </tr>\n",
       "    <tr>\n",
       "      <th>1</th>\n",
       "      <td>2</td>\n",
       "      <td>ACE GOLDFINGER</td>\n",
       "      <td>A Astounding Epistle of a Database Administrat...</td>\n",
       "      <td>2006</td>\n",
       "      <td>1</td>\n",
       "      <td>None</td>\n",
       "      <td>3</td>\n",
       "      <td>4.99</td>\n",
       "      <td>48</td>\n",
       "      <td>12.99</td>\n",
       "      <td>G</td>\n",
       "      <td>Trailers,Deleted Scenes</td>\n",
       "      <td>2006-02-15 05:03:42</td>\n",
       "    </tr>\n",
       "  </tbody>\n",
       "</table>\n",
       "</div>"
      ],
      "text/plain": [
       "   film_id             title  \\\n",
       "0        1  ACADEMY DINOSAUR   \n",
       "1        2    ACE GOLDFINGER   \n",
       "\n",
       "                                         description  release_year  \\\n",
       "0  A Epic Drama of a Feminist And a Mad Scientist...          2006   \n",
       "1  A Astounding Epistle of a Database Administrat...          2006   \n",
       "\n",
       "   language_id original_language_id  rental_duration  rental_rate  length  \\\n",
       "0            1                 None                6         0.99      86   \n",
       "1            1                 None                3         4.99      48   \n",
       "\n",
       "   replacement_cost rating                  special_features  \\\n",
       "0             20.99     PG  Deleted Scenes,Behind the Scenes   \n",
       "1             12.99      G           Trailers,Deleted Scenes   \n",
       "\n",
       "          last_update  \n",
       "0 2006-02-15 05:03:42  \n",
       "1 2006-02-15 05:03:42  "
      ]
     },
     "execution_count": 20,
     "metadata": {},
     "output_type": "execute_result"
    }
   ],
   "source": [
    "# Film table\n",
    "sql_film = \"SELECT * FROM sakila.film;\"\n",
    "df_film = get_dataframe(user_id, pwd, host_name, src_dbname, sql_film)\n",
    "df_film.head(2)"
   ]
  },
  {
   "cell_type": "markdown",
   "id": "a965ce75-df29-4256-89b5-045af141be2b",
   "metadata": {},
   "source": [
    "#### Perform any transformations (drop columns, insert any keys needed for dim tables)"
   ]
  },
  {
   "cell_type": "code",
   "execution_count": 22,
   "id": "e79fb1e1-6035-4633-893b-1b83386957c9",
   "metadata": {},
   "outputs": [
    {
     "data": {
      "text/html": [
       "<div>\n",
       "<style scoped>\n",
       "    .dataframe tbody tr th:only-of-type {\n",
       "        vertical-align: middle;\n",
       "    }\n",
       "\n",
       "    .dataframe tbody tr th {\n",
       "        vertical-align: top;\n",
       "    }\n",
       "\n",
       "    .dataframe thead th {\n",
       "        text-align: right;\n",
       "    }\n",
       "</style>\n",
       "<table border=\"1\" class=\"dataframe\">\n",
       "  <thead>\n",
       "    <tr style=\"text-align: right;\">\n",
       "      <th></th>\n",
       "      <th>film_key</th>\n",
       "      <th>film_id</th>\n",
       "      <th>title</th>\n",
       "      <th>rental_rate</th>\n",
       "      <th>rating</th>\n",
       "    </tr>\n",
       "  </thead>\n",
       "  <tbody>\n",
       "    <tr>\n",
       "      <th>0</th>\n",
       "      <td>1</td>\n",
       "      <td>1</td>\n",
       "      <td>ACADEMY DINOSAUR</td>\n",
       "      <td>0.99</td>\n",
       "      <td>PG</td>\n",
       "    </tr>\n",
       "    <tr>\n",
       "      <th>1</th>\n",
       "      <td>2</td>\n",
       "      <td>2</td>\n",
       "      <td>ACE GOLDFINGER</td>\n",
       "      <td>4.99</td>\n",
       "      <td>G</td>\n",
       "    </tr>\n",
       "  </tbody>\n",
       "</table>\n",
       "</div>"
      ],
      "text/plain": [
       "   film_key  film_id             title  rental_rate rating\n",
       "0         1        1  ACADEMY DINOSAUR         0.99     PG\n",
       "1         2        2    ACE GOLDFINGER         4.99      G"
      ]
     },
     "execution_count": 22,
     "metadata": {},
     "output_type": "execute_result"
    }
   ],
   "source": [
    "# Film\n",
    "\n",
    "# drop any irrelevant columns\n",
    "drop_cols = ['length', 'release_year', 'description','language_id','original_language_id','rental_duration','replacement_cost','special_features', 'last_update']\n",
    "df_film.drop(drop_cols, axis=1, inplace=True)\n",
    "\n",
    "# primary key already called film_id\n",
    "\n",
    "# Insert a new column, with an ever-incrementing numeric value, to serve as the primary key.\n",
    "df_film.insert(0, \"film_key\", range(1, df_film.shape[0]+1))\n",
    "\n",
    "df_film.head(2)"
   ]
  },
  {
   "cell_type": "markdown",
   "id": "a614da40-d8f4-447b-9e9e-cd93a9195c86",
   "metadata": {},
   "source": [
    "### Use MongoDB and json files to get data for dim tables"
   ]
  },
  {
   "cell_type": "markdown",
   "id": "bf53d3d3-ebb1-4dcf-946d-7f080af520bb",
   "metadata": {},
   "source": [
    "#### Populate MongoDB with film category json data"
   ]
  },
  {
   "cell_type": "code",
   "execution_count": 24,
   "id": "a8569ec8-5fcf-4b37-9471-2f3126669fbd",
   "metadata": {},
   "outputs": [],
   "source": [
    "client = get_mongo_client(**mongodb_args)\n",
    "\n",
    "# Gets the path of the Current Working Directory for this Notebook,\n",
    "# and then Appends the 'data' directory.\n",
    "data_dir = os.path.join(os.getcwd(), 'data')\n",
    "\n",
    "# Customer, Category, and Film Category tables\n",
    "json_files = {\"category\" : 'sakila_category.json',\n",
    "              \"film_category\" : 'sakila_film_category.json'\n",
    "             }\n",
    "\n",
    "set_mongo_collections(client, mongodb_args[\"db_name\"], data_dir, json_files)"
   ]
  },
  {
   "cell_type": "markdown",
   "id": "00e80c06-7454-466d-9454-fa36642ddf8b",
   "metadata": {},
   "source": [
    "#### Extract data from the MongoDB collections into tables"
   ]
  },
  {
   "cell_type": "code",
   "execution_count": 26,
   "id": "73d59ca8-15d7-4d20-a4f3-2f77fc6627ff",
   "metadata": {},
   "outputs": [
    {
     "data": {
      "text/html": [
       "<div>\n",
       "<style scoped>\n",
       "    .dataframe tbody tr th:only-of-type {\n",
       "        vertical-align: middle;\n",
       "    }\n",
       "\n",
       "    .dataframe tbody tr th {\n",
       "        vertical-align: top;\n",
       "    }\n",
       "\n",
       "    .dataframe thead th {\n",
       "        text-align: right;\n",
       "    }\n",
       "</style>\n",
       "<table border=\"1\" class=\"dataframe\">\n",
       "  <thead>\n",
       "    <tr style=\"text-align: right;\">\n",
       "      <th></th>\n",
       "      <th>category_id</th>\n",
       "      <th>name</th>\n",
       "      <th>last_update</th>\n",
       "    </tr>\n",
       "  </thead>\n",
       "  <tbody>\n",
       "    <tr>\n",
       "      <th>0</th>\n",
       "      <td>1</td>\n",
       "      <td>Action</td>\n",
       "      <td>2006-02-15 04:46:27</td>\n",
       "    </tr>\n",
       "    <tr>\n",
       "      <th>1</th>\n",
       "      <td>2</td>\n",
       "      <td>Animation</td>\n",
       "      <td>2006-02-15 04:46:27</td>\n",
       "    </tr>\n",
       "  </tbody>\n",
       "</table>\n",
       "</div>"
      ],
      "text/plain": [
       "   category_id       name          last_update\n",
       "0            1     Action  2006-02-15 04:46:27\n",
       "1            2  Animation  2006-02-15 04:46:27"
      ]
     },
     "execution_count": 26,
     "metadata": {},
     "output_type": "execute_result"
    }
   ],
   "source": [
    "# Category table\n",
    "client = get_mongo_client(**mongodb_args)\n",
    "\n",
    "query = {} # Select all elements (columns), and all documents (rows).\n",
    "collection = \"category\"\n",
    "\n",
    "df_category = get_mongo_dataframe(client, mongodb_args[\"db_name\"], collection, query)\n",
    "df_category.head(2)"
   ]
  },
  {
   "cell_type": "code",
   "execution_count": 28,
   "id": "84a4c79e-a354-4eb2-8692-ff5f547b18a6",
   "metadata": {},
   "outputs": [
    {
     "data": {
      "text/html": [
       "<div>\n",
       "<style scoped>\n",
       "    .dataframe tbody tr th:only-of-type {\n",
       "        vertical-align: middle;\n",
       "    }\n",
       "\n",
       "    .dataframe tbody tr th {\n",
       "        vertical-align: top;\n",
       "    }\n",
       "\n",
       "    .dataframe thead th {\n",
       "        text-align: right;\n",
       "    }\n",
       "</style>\n",
       "<table border=\"1\" class=\"dataframe\">\n",
       "  <thead>\n",
       "    <tr style=\"text-align: right;\">\n",
       "      <th></th>\n",
       "      <th>film_id</th>\n",
       "      <th>category_id</th>\n",
       "      <th>last_update</th>\n",
       "    </tr>\n",
       "  </thead>\n",
       "  <tbody>\n",
       "    <tr>\n",
       "      <th>0</th>\n",
       "      <td>1</td>\n",
       "      <td>6</td>\n",
       "      <td>2006-02-15 05:07:09</td>\n",
       "    </tr>\n",
       "    <tr>\n",
       "      <th>1</th>\n",
       "      <td>2</td>\n",
       "      <td>11</td>\n",
       "      <td>2006-02-15 05:07:09</td>\n",
       "    </tr>\n",
       "  </tbody>\n",
       "</table>\n",
       "</div>"
      ],
      "text/plain": [
       "   film_id  category_id          last_update\n",
       "0        1            6  2006-02-15 05:07:09\n",
       "1        2           11  2006-02-15 05:07:09"
      ]
     },
     "execution_count": 28,
     "metadata": {},
     "output_type": "execute_result"
    }
   ],
   "source": [
    "# Film Category table\n",
    "client = get_mongo_client(**mongodb_args)\n",
    "\n",
    "query = {} # Select all elements (columns), and all documents (rows).\n",
    "collection = \"film_category\"\n",
    "\n",
    "df_film_category = get_mongo_dataframe(client, mongodb_args[\"db_name\"], collection, query)\n",
    "df_film_category.head(2)"
   ]
  },
  {
   "cell_type": "markdown",
   "id": "1da4628a-54e6-42af-836d-16d86c5a3427",
   "metadata": {},
   "source": [
    "#### Any transformations needed to the dataframes from MongoDB"
   ]
  },
  {
   "cell_type": "code",
   "execution_count": 30,
   "id": "9875247f-9c3d-4b54-9ddc-fa2574827083",
   "metadata": {},
   "outputs": [
    {
     "data": {
      "text/html": [
       "<div>\n",
       "<style scoped>\n",
       "    .dataframe tbody tr th:only-of-type {\n",
       "        vertical-align: middle;\n",
       "    }\n",
       "\n",
       "    .dataframe tbody tr th {\n",
       "        vertical-align: top;\n",
       "    }\n",
       "\n",
       "    .dataframe thead th {\n",
       "        text-align: right;\n",
       "    }\n",
       "</style>\n",
       "<table border=\"1\" class=\"dataframe\">\n",
       "  <thead>\n",
       "    <tr style=\"text-align: right;\">\n",
       "      <th></th>\n",
       "      <th>category_key</th>\n",
       "      <th>category_id</th>\n",
       "      <th>name</th>\n",
       "    </tr>\n",
       "  </thead>\n",
       "  <tbody>\n",
       "    <tr>\n",
       "      <th>0</th>\n",
       "      <td>1</td>\n",
       "      <td>1</td>\n",
       "      <td>Action</td>\n",
       "    </tr>\n",
       "    <tr>\n",
       "      <th>1</th>\n",
       "      <td>2</td>\n",
       "      <td>2</td>\n",
       "      <td>Animation</td>\n",
       "    </tr>\n",
       "  </tbody>\n",
       "</table>\n",
       "</div>"
      ],
      "text/plain": [
       "   category_key  category_id       name\n",
       "0             1            1     Action\n",
       "1             2            2  Animation"
      ]
     },
     "execution_count": 30,
     "metadata": {},
     "output_type": "execute_result"
    }
   ],
   "source": [
    "# Category\n",
    "# drop any irrelevant columns\n",
    "drop_cols = ['last_update']\n",
    "df_category.drop(drop_cols, axis=1, inplace=True)\n",
    "\n",
    "# Insert a new column, with an ever-incrementing numeric value, to serve as the primary key.\n",
    "df_category.insert(0, \"category_key\", range(1, df_category.shape[0]+1))\n",
    "\n",
    "df_category.head(2)"
   ]
  },
  {
   "cell_type": "code",
   "execution_count": 32,
   "id": "3dc86433-325b-4d47-8ddb-70ce45379361",
   "metadata": {},
   "outputs": [
    {
     "data": {
      "text/html": [
       "<div>\n",
       "<style scoped>\n",
       "    .dataframe tbody tr th:only-of-type {\n",
       "        vertical-align: middle;\n",
       "    }\n",
       "\n",
       "    .dataframe tbody tr th {\n",
       "        vertical-align: top;\n",
       "    }\n",
       "\n",
       "    .dataframe thead th {\n",
       "        text-align: right;\n",
       "    }\n",
       "</style>\n",
       "<table border=\"1\" class=\"dataframe\">\n",
       "  <thead>\n",
       "    <tr style=\"text-align: right;\">\n",
       "      <th></th>\n",
       "      <th>film_category_key</th>\n",
       "      <th>film_id</th>\n",
       "      <th>category_id</th>\n",
       "    </tr>\n",
       "  </thead>\n",
       "  <tbody>\n",
       "    <tr>\n",
       "      <th>0</th>\n",
       "      <td>1</td>\n",
       "      <td>1</td>\n",
       "      <td>6</td>\n",
       "    </tr>\n",
       "    <tr>\n",
       "      <th>1</th>\n",
       "      <td>2</td>\n",
       "      <td>2</td>\n",
       "      <td>11</td>\n",
       "    </tr>\n",
       "  </tbody>\n",
       "</table>\n",
       "</div>"
      ],
      "text/plain": [
       "   film_category_key  film_id  category_id\n",
       "0                  1        1            6\n",
       "1                  2        2           11"
      ]
     },
     "execution_count": 32,
     "metadata": {},
     "output_type": "execute_result"
    }
   ],
   "source": [
    "# Film Category\n",
    "# drop any irrelevant columns\n",
    "drop_cols = ['last_update']\n",
    "df_film_category.drop(drop_cols, axis=1, inplace=True)\n",
    "\n",
    "# Insert a new column, with an ever-incrementing numeric value, to serve as the primary key.\n",
    "df_film_category.insert(0, \"film_category_key\", range(1, df_film_category.shape[0]+1))\n",
    "\n",
    "df_film_category.head(2)"
   ]
  },
  {
   "cell_type": "markdown",
   "id": "9cb1ba39-b0aa-41bc-871f-f22f53033e2c",
   "metadata": {},
   "source": [
    "### Merge category information into film table\n",
    "To organize my data I am first going to get the film information merged, in the film table I want to have the film information and the category information."
   ]
  },
  {
   "cell_type": "code",
   "execution_count": 34,
   "id": "47921847-e413-459e-9a56-db817d5a89da",
   "metadata": {
    "scrolled": true
   },
   "outputs": [
    {
     "data": {
      "text/html": [
       "<div>\n",
       "<style scoped>\n",
       "    .dataframe tbody tr th:only-of-type {\n",
       "        vertical-align: middle;\n",
       "    }\n",
       "\n",
       "    .dataframe tbody tr th {\n",
       "        vertical-align: top;\n",
       "    }\n",
       "\n",
       "    .dataframe thead th {\n",
       "        text-align: right;\n",
       "    }\n",
       "</style>\n",
       "<table border=\"1\" class=\"dataframe\">\n",
       "  <thead>\n",
       "    <tr style=\"text-align: right;\">\n",
       "      <th></th>\n",
       "      <th>film_category_key</th>\n",
       "      <th>film_id</th>\n",
       "      <th>category_id</th>\n",
       "      <th>category_key</th>\n",
       "      <th>category_name</th>\n",
       "    </tr>\n",
       "  </thead>\n",
       "  <tbody>\n",
       "    <tr>\n",
       "      <th>0</th>\n",
       "      <td>1</td>\n",
       "      <td>1</td>\n",
       "      <td>6</td>\n",
       "      <td>6</td>\n",
       "      <td>Documentary</td>\n",
       "    </tr>\n",
       "    <tr>\n",
       "      <th>1</th>\n",
       "      <td>2</td>\n",
       "      <td>2</td>\n",
       "      <td>11</td>\n",
       "      <td>11</td>\n",
       "      <td>Horror</td>\n",
       "    </tr>\n",
       "  </tbody>\n",
       "</table>\n",
       "</div>"
      ],
      "text/plain": [
       "   film_category_key  film_id  category_id  category_key category_name\n",
       "0                  1        1            6             6   Documentary\n",
       "1                  2        2           11            11        Horror"
      ]
     },
     "execution_count": 34,
     "metadata": {},
     "output_type": "execute_result"
    }
   ],
   "source": [
    "# Match categories to film_categories on category id\n",
    "# I want to match up film id with its actual category name\n",
    "df_film_category = pd.merge(df_film_category, df_category, on='category_id', how='left')\n",
    "df_film_category.rename(columns={\"name\":\"category_name\"}, inplace=True)\n",
    "\n",
    "df_film_category.head(2)"
   ]
  },
  {
   "cell_type": "code",
   "execution_count": 36,
   "id": "b1d94700-d785-4c1f-986e-2a00314888f8",
   "metadata": {},
   "outputs": [
    {
     "data": {
      "text/html": [
       "<div>\n",
       "<style scoped>\n",
       "    .dataframe tbody tr th:only-of-type {\n",
       "        vertical-align: middle;\n",
       "    }\n",
       "\n",
       "    .dataframe tbody tr th {\n",
       "        vertical-align: top;\n",
       "    }\n",
       "\n",
       "    .dataframe thead th {\n",
       "        text-align: right;\n",
       "    }\n",
       "</style>\n",
       "<table border=\"1\" class=\"dataframe\">\n",
       "  <thead>\n",
       "    <tr style=\"text-align: right;\">\n",
       "      <th></th>\n",
       "      <th>film_key</th>\n",
       "      <th>film_id</th>\n",
       "      <th>film_title</th>\n",
       "      <th>rental_rate</th>\n",
       "      <th>rating</th>\n",
       "      <th>film_category_key</th>\n",
       "      <th>category_id</th>\n",
       "      <th>category_key</th>\n",
       "      <th>category_name</th>\n",
       "    </tr>\n",
       "  </thead>\n",
       "  <tbody>\n",
       "    <tr>\n",
       "      <th>0</th>\n",
       "      <td>1</td>\n",
       "      <td>1</td>\n",
       "      <td>ACADEMY DINOSAUR</td>\n",
       "      <td>0.99</td>\n",
       "      <td>PG</td>\n",
       "      <td>1</td>\n",
       "      <td>6</td>\n",
       "      <td>6</td>\n",
       "      <td>Documentary</td>\n",
       "    </tr>\n",
       "    <tr>\n",
       "      <th>1</th>\n",
       "      <td>2</td>\n",
       "      <td>2</td>\n",
       "      <td>ACE GOLDFINGER</td>\n",
       "      <td>4.99</td>\n",
       "      <td>G</td>\n",
       "      <td>2</td>\n",
       "      <td>11</td>\n",
       "      <td>11</td>\n",
       "      <td>Horror</td>\n",
       "    </tr>\n",
       "  </tbody>\n",
       "</table>\n",
       "</div>"
      ],
      "text/plain": [
       "   film_key  film_id        film_title  rental_rate rating  film_category_key  \\\n",
       "0         1        1  ACADEMY DINOSAUR         0.99     PG                  1   \n",
       "1         2        2    ACE GOLDFINGER         4.99      G                  2   \n",
       "\n",
       "   category_id  category_key category_name  \n",
       "0            6             6   Documentary  \n",
       "1           11            11        Horror  "
      ]
     },
     "execution_count": 36,
     "metadata": {},
     "output_type": "execute_result"
    }
   ],
   "source": [
    "# Category name is now matched to each film_id\n",
    "# Use that to merge category names onto film table\n",
    "df_film = pd.merge(df_film, df_film_category, on='film_id', how='left')\n",
    "df_film.rename(columns={\"title\":\"film_title\"}, inplace=True)\n",
    "\n",
    "df_film.head(2)"
   ]
  },
  {
   "cell_type": "markdown",
   "id": "c913a3cc-e4ea-42c0-91c2-dbbc909336cf",
   "metadata": {},
   "source": [
    "### Extract table data from csv file"
   ]
  },
  {
   "cell_type": "code",
   "execution_count": 38,
   "id": "f3f728e6-5c60-4884-a6e0-59210700697d",
   "metadata": {
    "scrolled": true
   },
   "outputs": [
    {
     "data": {
      "text/html": [
       "<div>\n",
       "<style scoped>\n",
       "    .dataframe tbody tr th:only-of-type {\n",
       "        vertical-align: middle;\n",
       "    }\n",
       "\n",
       "    .dataframe tbody tr th {\n",
       "        vertical-align: top;\n",
       "    }\n",
       "\n",
       "    .dataframe thead th {\n",
       "        text-align: right;\n",
       "    }\n",
       "</style>\n",
       "<table border=\"1\" class=\"dataframe\">\n",
       "  <thead>\n",
       "    <tr style=\"text-align: right;\">\n",
       "      <th></th>\n",
       "      <th>store_id</th>\n",
       "      <th>first_name</th>\n",
       "      <th>last_name</th>\n",
       "      <th>email</th>\n",
       "      <th>address_id</th>\n",
       "      <th>active</th>\n",
       "      <th>create_date</th>\n",
       "      <th>last_update</th>\n",
       "    </tr>\n",
       "    <tr>\n",
       "      <th>customer_id</th>\n",
       "      <th></th>\n",
       "      <th></th>\n",
       "      <th></th>\n",
       "      <th></th>\n",
       "      <th></th>\n",
       "      <th></th>\n",
       "      <th></th>\n",
       "      <th></th>\n",
       "    </tr>\n",
       "  </thead>\n",
       "  <tbody>\n",
       "    <tr>\n",
       "      <th>1</th>\n",
       "      <td>1</td>\n",
       "      <td>MARY</td>\n",
       "      <td>SMITH</td>\n",
       "      <td>MARY.SMITH@sakilacustomer.org</td>\n",
       "      <td>5</td>\n",
       "      <td>1</td>\n",
       "      <td>2006-02-14 22:04:36</td>\n",
       "      <td>2006-02-15 04:57:20</td>\n",
       "    </tr>\n",
       "    <tr>\n",
       "      <th>2</th>\n",
       "      <td>1</td>\n",
       "      <td>PATRICIA</td>\n",
       "      <td>JOHNSON</td>\n",
       "      <td>PATRICIA.JOHNSON@sakilacustomer.org</td>\n",
       "      <td>6</td>\n",
       "      <td>1</td>\n",
       "      <td>2006-02-14 22:04:36</td>\n",
       "      <td>2006-02-15 04:57:20</td>\n",
       "    </tr>\n",
       "  </tbody>\n",
       "</table>\n",
       "</div>"
      ],
      "text/plain": [
       "             store_id first_name last_name  \\\n",
       "customer_id                                  \n",
       "1                   1       MARY     SMITH   \n",
       "2                   1   PATRICIA   JOHNSON   \n",
       "\n",
       "                                           email  address_id  active  \\\n",
       "customer_id                                                            \n",
       "1                  MARY.SMITH@sakilacustomer.org           5       1   \n",
       "2            PATRICIA.JOHNSON@sakilacustomer.org           6       1   \n",
       "\n",
       "                     create_date          last_update  \n",
       "customer_id                                            \n",
       "1            2006-02-14 22:04:36  2006-02-15 04:57:20  \n",
       "2            2006-02-14 22:04:36  2006-02-15 04:57:20  "
      ]
     },
     "execution_count": 38,
     "metadata": {},
     "output_type": "execute_result"
    }
   ],
   "source": [
    "# Customer table\n",
    "data_dir = os.path.join(os.getcwd(), 'data')\n",
    "data_file = os.path.join(data_dir, 'sakila_customer.csv')\n",
    "\n",
    "df_customer = pd.read_csv(data_file, header=0, index_col=0)\n",
    "df_customer.head(2)"
   ]
  },
  {
   "cell_type": "code",
   "execution_count": 40,
   "id": "36af5259-65ba-4e36-ba77-cb5c445d8797",
   "metadata": {},
   "outputs": [
    {
     "data": {
      "text/html": [
       "<div>\n",
       "<style scoped>\n",
       "    .dataframe tbody tr th:only-of-type {\n",
       "        vertical-align: middle;\n",
       "    }\n",
       "\n",
       "    .dataframe tbody tr th {\n",
       "        vertical-align: top;\n",
       "    }\n",
       "\n",
       "    .dataframe thead th {\n",
       "        text-align: right;\n",
       "    }\n",
       "</style>\n",
       "<table border=\"1\" class=\"dataframe\">\n",
       "  <thead>\n",
       "    <tr style=\"text-align: right;\">\n",
       "      <th></th>\n",
       "      <th>customer_key</th>\n",
       "      <th>customer_id</th>\n",
       "      <th>first_name</th>\n",
       "      <th>last_name</th>\n",
       "    </tr>\n",
       "    <tr>\n",
       "      <th>customer_id</th>\n",
       "      <th></th>\n",
       "      <th></th>\n",
       "      <th></th>\n",
       "      <th></th>\n",
       "    </tr>\n",
       "  </thead>\n",
       "  <tbody>\n",
       "    <tr>\n",
       "      <th>1</th>\n",
       "      <td>1</td>\n",
       "      <td>1</td>\n",
       "      <td>MARY</td>\n",
       "      <td>SMITH</td>\n",
       "    </tr>\n",
       "    <tr>\n",
       "      <th>2</th>\n",
       "      <td>2</td>\n",
       "      <td>2</td>\n",
       "      <td>PATRICIA</td>\n",
       "      <td>JOHNSON</td>\n",
       "    </tr>\n",
       "  </tbody>\n",
       "</table>\n",
       "</div>"
      ],
      "text/plain": [
       "             customer_key  customer_id first_name last_name\n",
       "customer_id                                                \n",
       "1                       1            1       MARY     SMITH\n",
       "2                       2            2   PATRICIA   JOHNSON"
      ]
     },
     "execution_count": 40,
     "metadata": {},
     "output_type": "execute_result"
    }
   ],
   "source": [
    "# make any needed transformations\n",
    "# drop any irrelevant columns\n",
    "drop_cols = ['store_id', 'email', 'address_id', 'active', 'create_date', 'last_update']\n",
    "df_customer.drop(drop_cols, axis=1, inplace=True)\n",
    "\n",
    "# Insert new columns, with an ever-incrementing numeric value, to serve as the business and primary keys.\n",
    "df_customer.insert(0, \"customer_id\", range(1, df_customer.shape[0]+1))\n",
    "df_customer.insert(0, \"customer_key\", range(1, df_customer.shape[0]+1))\n",
    "\n",
    "df_customer.head(2)"
   ]
  },
  {
   "cell_type": "markdown",
   "id": "6a00fb4b-2ff7-44ed-91cd-f8ca9c1f52db",
   "metadata": {},
   "source": [
    "### Load the dim tables into new sakila_dw data warehouse"
   ]
  },
  {
   "cell_type": "code",
   "execution_count": 42,
   "id": "7494a2b0-265b-4751-873f-cb50137365fe",
   "metadata": {},
   "outputs": [],
   "source": [
    "# Load new dimension tables: Film, Category, Film Category, and Customer\n",
    "db_operation = \"insert\"\n",
    "\n",
    "tables = [('dim_film', df_film, 'film_key'),\n",
    "          ('dim_category', df_category, 'category_key'),\n",
    "          ('dim_film_category', df_film_category, 'film_category_key'),\n",
    "          ('dim_customer', df_customer, 'customer_id')]"
   ]
  },
  {
   "cell_type": "code",
   "execution_count": 44,
   "id": "14b31e9a-44a0-4f3f-8620-e6115552f197",
   "metadata": {},
   "outputs": [],
   "source": [
    "for table_name, dataframe, primary_key in tables:\n",
    "    set_dataframe(user_id, pwd, host_name, dst_dbname, dataframe, table_name, primary_key, db_operation)"
   ]
  },
  {
   "cell_type": "markdown",
   "id": "6ff06894-dc51-4633-9ed9-b48b429af447",
   "metadata": {},
   "source": [
    "### Create the date dimension table"
   ]
  },
  {
   "cell_type": "markdown",
   "id": "7ea50b20-691a-47bd-ab90-ed56b624239d",
   "metadata": {},
   "source": [
    "To create the dim_date table I executed the code from lab 2c in MySQL.\n",
    "I changed the date range to be aligned with the sakila database which is from 2005-05-24 to 2006-02-14."
   ]
  },
  {
   "cell_type": "code",
   "execution_count": 46,
   "id": "5eebff30-9d6f-4d17-acb0-9abcc813618b",
   "metadata": {},
   "outputs": [],
   "source": [
    "# demonstrate that dim_date table exists\n",
    "sql_dim_date_query = \"\"\"\n",
    "    SELECT MIN(full_date) AS BeginDate, \n",
    "        MAX(full_date) AS EndDate\n",
    "    FROM dim_date;\n",
    "\"\"\""
   ]
  },
  {
   "cell_type": "code",
   "execution_count": 48,
   "id": "522cc513-e931-451b-baa4-57ba4e725b9b",
   "metadata": {},
   "outputs": [
    {
     "data": {
      "text/html": [
       "<div>\n",
       "<style scoped>\n",
       "    .dataframe tbody tr th:only-of-type {\n",
       "        vertical-align: middle;\n",
       "    }\n",
       "\n",
       "    .dataframe tbody tr th {\n",
       "        vertical-align: top;\n",
       "    }\n",
       "\n",
       "    .dataframe thead th {\n",
       "        text-align: right;\n",
       "    }\n",
       "</style>\n",
       "<table border=\"1\" class=\"dataframe\">\n",
       "  <thead>\n",
       "    <tr style=\"text-align: right;\">\n",
       "      <th></th>\n",
       "      <th>BeginDate</th>\n",
       "      <th>EndDate</th>\n",
       "    </tr>\n",
       "  </thead>\n",
       "  <tbody>\n",
       "    <tr>\n",
       "      <th>0</th>\n",
       "      <td>2005-05-24</td>\n",
       "      <td>2006-02-14</td>\n",
       "    </tr>\n",
       "  </tbody>\n",
       "</table>\n",
       "</div>"
      ],
      "text/plain": [
       "    BeginDate     EndDate\n",
       "0  2005-05-24  2006-02-14"
      ]
     },
     "execution_count": 48,
     "metadata": {},
     "output_type": "execute_result"
    }
   ],
   "source": [
    "df_dim_date_query = get_sql_dataframe(sql_dim_date_query, **mysql_args)\n",
    "df_dim_date_query"
   ]
  },
  {
   "cell_type": "markdown",
   "id": "66a02711-0db0-4bca-8d9f-3dd0a1d81213",
   "metadata": {},
   "source": [
    "### Create fact table with all of the transaction data from rental, payment, inventory data"
   ]
  },
  {
   "cell_type": "markdown",
   "id": "e392eced-7578-4651-a749-8f678f969f65",
   "metadata": {},
   "source": [
    "#### Read in data from rental table"
   ]
  },
  {
   "cell_type": "code",
   "execution_count": 50,
   "id": "7bd75485-e538-4002-aaa8-35367ada5c36",
   "metadata": {},
   "outputs": [
    {
     "data": {
      "text/html": [
       "<div>\n",
       "<style scoped>\n",
       "    .dataframe tbody tr th:only-of-type {\n",
       "        vertical-align: middle;\n",
       "    }\n",
       "\n",
       "    .dataframe tbody tr th {\n",
       "        vertical-align: top;\n",
       "    }\n",
       "\n",
       "    .dataframe thead th {\n",
       "        text-align: right;\n",
       "    }\n",
       "</style>\n",
       "<table border=\"1\" class=\"dataframe\">\n",
       "  <thead>\n",
       "    <tr style=\"text-align: right;\">\n",
       "      <th></th>\n",
       "      <th>rental_id</th>\n",
       "      <th>rental_date</th>\n",
       "      <th>inventory_id</th>\n",
       "      <th>customer_id</th>\n",
       "      <th>return_date</th>\n",
       "      <th>staff_id</th>\n",
       "      <th>last_update</th>\n",
       "    </tr>\n",
       "  </thead>\n",
       "  <tbody>\n",
       "    <tr>\n",
       "      <th>0</th>\n",
       "      <td>1</td>\n",
       "      <td>2005-05-24 22:53:30</td>\n",
       "      <td>367</td>\n",
       "      <td>130</td>\n",
       "      <td>2005-05-26 22:04:30</td>\n",
       "      <td>1</td>\n",
       "      <td>2006-02-15 21:30:53</td>\n",
       "    </tr>\n",
       "    <tr>\n",
       "      <th>1</th>\n",
       "      <td>2</td>\n",
       "      <td>2005-05-24 22:54:33</td>\n",
       "      <td>1525</td>\n",
       "      <td>459</td>\n",
       "      <td>2005-05-28 19:40:33</td>\n",
       "      <td>1</td>\n",
       "      <td>2006-02-15 21:30:53</td>\n",
       "    </tr>\n",
       "  </tbody>\n",
       "</table>\n",
       "</div>"
      ],
      "text/plain": [
       "   rental_id         rental_date  inventory_id  customer_id  \\\n",
       "0          1 2005-05-24 22:53:30           367          130   \n",
       "1          2 2005-05-24 22:54:33          1525          459   \n",
       "\n",
       "          return_date  staff_id         last_update  \n",
       "0 2005-05-26 22:04:30         1 2006-02-15 21:30:53  \n",
       "1 2005-05-28 19:40:33         1 2006-02-15 21:30:53  "
      ]
     },
     "execution_count": 50,
     "metadata": {},
     "output_type": "execute_result"
    }
   ],
   "source": [
    "sql_rental = \"SELECT * FROM sakila.rental;\"\n",
    "df_rental = get_dataframe(user_id, pwd, host_name, src_dbname, sql_rental)\n",
    "df_rental.head(2)"
   ]
  },
  {
   "cell_type": "markdown",
   "id": "ab17375a-bfdf-49d3-b076-6b574693b54c",
   "metadata": {},
   "source": [
    "#### Read in data from payment table"
   ]
  },
  {
   "cell_type": "code",
   "execution_count": 53,
   "id": "a3243ba8-2016-4cb7-9ea1-701c217aa4d1",
   "metadata": {},
   "outputs": [
    {
     "data": {
      "text/html": [
       "<div>\n",
       "<style scoped>\n",
       "    .dataframe tbody tr th:only-of-type {\n",
       "        vertical-align: middle;\n",
       "    }\n",
       "\n",
       "    .dataframe tbody tr th {\n",
       "        vertical-align: top;\n",
       "    }\n",
       "\n",
       "    .dataframe thead th {\n",
       "        text-align: right;\n",
       "    }\n",
       "</style>\n",
       "<table border=\"1\" class=\"dataframe\">\n",
       "  <thead>\n",
       "    <tr style=\"text-align: right;\">\n",
       "      <th></th>\n",
       "      <th>payment_id</th>\n",
       "      <th>customer_id</th>\n",
       "      <th>staff_id</th>\n",
       "      <th>rental_id</th>\n",
       "      <th>amount</th>\n",
       "      <th>payment_date</th>\n",
       "      <th>last_update</th>\n",
       "    </tr>\n",
       "  </thead>\n",
       "  <tbody>\n",
       "    <tr>\n",
       "      <th>0</th>\n",
       "      <td>1</td>\n",
       "      <td>1</td>\n",
       "      <td>1</td>\n",
       "      <td>76</td>\n",
       "      <td>2.99</td>\n",
       "      <td>2005-05-25 11:30:37</td>\n",
       "      <td>2006-02-15 22:12:30</td>\n",
       "    </tr>\n",
       "    <tr>\n",
       "      <th>1</th>\n",
       "      <td>2</td>\n",
       "      <td>1</td>\n",
       "      <td>1</td>\n",
       "      <td>573</td>\n",
       "      <td>0.99</td>\n",
       "      <td>2005-05-28 10:35:23</td>\n",
       "      <td>2006-02-15 22:12:30</td>\n",
       "    </tr>\n",
       "  </tbody>\n",
       "</table>\n",
       "</div>"
      ],
      "text/plain": [
       "   payment_id  customer_id  staff_id  rental_id  amount        payment_date  \\\n",
       "0           1            1         1         76    2.99 2005-05-25 11:30:37   \n",
       "1           2            1         1        573    0.99 2005-05-28 10:35:23   \n",
       "\n",
       "          last_update  \n",
       "0 2006-02-15 22:12:30  \n",
       "1 2006-02-15 22:12:30  "
      ]
     },
     "execution_count": 53,
     "metadata": {},
     "output_type": "execute_result"
    }
   ],
   "source": [
    "sql_payment = \"SELECT * FROM sakila.payment;\"\n",
    "df_payment = get_dataframe(user_id, pwd, host_name, src_dbname, sql_payment)\n",
    "df_payment.head(2)"
   ]
  },
  {
   "cell_type": "markdown",
   "id": "2959fb12-98c9-4b8b-b161-4f3a0f49aa52",
   "metadata": {},
   "source": [
    "#### Read in data from inventory table"
   ]
  },
  {
   "cell_type": "code",
   "execution_count": 56,
   "id": "2198b957-fdef-4ef0-bec6-279e34281019",
   "metadata": {},
   "outputs": [
    {
     "data": {
      "text/html": [
       "<div>\n",
       "<style scoped>\n",
       "    .dataframe tbody tr th:only-of-type {\n",
       "        vertical-align: middle;\n",
       "    }\n",
       "\n",
       "    .dataframe tbody tr th {\n",
       "        vertical-align: top;\n",
       "    }\n",
       "\n",
       "    .dataframe thead th {\n",
       "        text-align: right;\n",
       "    }\n",
       "</style>\n",
       "<table border=\"1\" class=\"dataframe\">\n",
       "  <thead>\n",
       "    <tr style=\"text-align: right;\">\n",
       "      <th></th>\n",
       "      <th>inventory_id</th>\n",
       "      <th>film_id</th>\n",
       "      <th>store_id</th>\n",
       "      <th>last_update</th>\n",
       "    </tr>\n",
       "  </thead>\n",
       "  <tbody>\n",
       "    <tr>\n",
       "      <th>0</th>\n",
       "      <td>1</td>\n",
       "      <td>1</td>\n",
       "      <td>1</td>\n",
       "      <td>2006-02-15 05:09:17</td>\n",
       "    </tr>\n",
       "    <tr>\n",
       "      <th>1</th>\n",
       "      <td>2</td>\n",
       "      <td>1</td>\n",
       "      <td>1</td>\n",
       "      <td>2006-02-15 05:09:17</td>\n",
       "    </tr>\n",
       "  </tbody>\n",
       "</table>\n",
       "</div>"
      ],
      "text/plain": [
       "   inventory_id  film_id  store_id         last_update\n",
       "0             1        1         1 2006-02-15 05:09:17\n",
       "1             2        1         1 2006-02-15 05:09:17"
      ]
     },
     "execution_count": 56,
     "metadata": {},
     "output_type": "execute_result"
    }
   ],
   "source": [
    "sql_inventory = \"SELECT * FROM sakila.inventory;\"\n",
    "df_inventory = get_dataframe(user_id, pwd, host_name, src_dbname, sql_inventory)\n",
    "df_inventory.head(2)"
   ]
  },
  {
   "cell_type": "markdown",
   "id": "17ca9646-c097-407f-aadf-c55731ac47eb",
   "metadata": {},
   "source": [
    "#### Perform any needed transformations before merging"
   ]
  },
  {
   "cell_type": "code",
   "execution_count": 58,
   "id": "ac93aeec-f844-4632-ac77-d9e727e5794f",
   "metadata": {},
   "outputs": [
    {
     "data": {
      "text/html": [
       "<div>\n",
       "<style scoped>\n",
       "    .dataframe tbody tr th:only-of-type {\n",
       "        vertical-align: middle;\n",
       "    }\n",
       "\n",
       "    .dataframe tbody tr th {\n",
       "        vertical-align: top;\n",
       "    }\n",
       "\n",
       "    .dataframe thead th {\n",
       "        text-align: right;\n",
       "    }\n",
       "</style>\n",
       "<table border=\"1\" class=\"dataframe\">\n",
       "  <thead>\n",
       "    <tr style=\"text-align: right;\">\n",
       "      <th></th>\n",
       "      <th>payment_id</th>\n",
       "      <th>rental_id</th>\n",
       "      <th>amount</th>\n",
       "      <th>payment_date</th>\n",
       "    </tr>\n",
       "  </thead>\n",
       "  <tbody>\n",
       "    <tr>\n",
       "      <th>0</th>\n",
       "      <td>1</td>\n",
       "      <td>76</td>\n",
       "      <td>2.99</td>\n",
       "      <td>2005-05-25 11:30:37</td>\n",
       "    </tr>\n",
       "    <tr>\n",
       "      <th>1</th>\n",
       "      <td>2</td>\n",
       "      <td>573</td>\n",
       "      <td>0.99</td>\n",
       "      <td>2005-05-28 10:35:23</td>\n",
       "    </tr>\n",
       "  </tbody>\n",
       "</table>\n",
       "</div>"
      ],
      "text/plain": [
       "   payment_id  rental_id  amount        payment_date\n",
       "0           1         76    2.99 2005-05-25 11:30:37\n",
       "1           2        573    0.99 2005-05-28 10:35:23"
      ]
     },
     "execution_count": 58,
     "metadata": {},
     "output_type": "execute_result"
    }
   ],
   "source": [
    "drop_cols = ['staff_id', 'last_update', 'customer_id']\n",
    "df_payment.drop(drop_cols, axis=1, inplace=True)\n",
    "df_payment.head(2)"
   ]
  },
  {
   "cell_type": "code",
   "execution_count": 60,
   "id": "08b15f6c-a310-4535-b01f-4bbf4c93769e",
   "metadata": {},
   "outputs": [
    {
     "data": {
      "text/html": [
       "<div>\n",
       "<style scoped>\n",
       "    .dataframe tbody tr th:only-of-type {\n",
       "        vertical-align: middle;\n",
       "    }\n",
       "\n",
       "    .dataframe tbody tr th {\n",
       "        vertical-align: top;\n",
       "    }\n",
       "\n",
       "    .dataframe thead th {\n",
       "        text-align: right;\n",
       "    }\n",
       "</style>\n",
       "<table border=\"1\" class=\"dataframe\">\n",
       "  <thead>\n",
       "    <tr style=\"text-align: right;\">\n",
       "      <th></th>\n",
       "      <th>inventory_id</th>\n",
       "      <th>film_id</th>\n",
       "    </tr>\n",
       "  </thead>\n",
       "  <tbody>\n",
       "    <tr>\n",
       "      <th>0</th>\n",
       "      <td>1</td>\n",
       "      <td>1</td>\n",
       "    </tr>\n",
       "    <tr>\n",
       "      <th>1</th>\n",
       "      <td>2</td>\n",
       "      <td>1</td>\n",
       "    </tr>\n",
       "  </tbody>\n",
       "</table>\n",
       "</div>"
      ],
      "text/plain": [
       "   inventory_id  film_id\n",
       "0             1        1\n",
       "1             2        1"
      ]
     },
     "execution_count": 60,
     "metadata": {},
     "output_type": "execute_result"
    }
   ],
   "source": [
    "drop_cols = ['store_id', 'last_update']\n",
    "df_inventory.drop(drop_cols, axis=1, inplace=True)\n",
    "df_inventory.head(2)"
   ]
  },
  {
   "cell_type": "markdown",
   "id": "d0250c35-67e2-4619-bad8-bb26f634cbd4",
   "metadata": {},
   "source": [
    "#### Combine inventory onto rental"
   ]
  },
  {
   "cell_type": "code",
   "execution_count": 62,
   "id": "32c64783-b670-4ccc-b96f-02fdb01b3942",
   "metadata": {
    "scrolled": true
   },
   "outputs": [
    {
     "data": {
      "text/html": [
       "<div>\n",
       "<style scoped>\n",
       "    .dataframe tbody tr th:only-of-type {\n",
       "        vertical-align: middle;\n",
       "    }\n",
       "\n",
       "    .dataframe tbody tr th {\n",
       "        vertical-align: top;\n",
       "    }\n",
       "\n",
       "    .dataframe thead th {\n",
       "        text-align: right;\n",
       "    }\n",
       "</style>\n",
       "<table border=\"1\" class=\"dataframe\">\n",
       "  <thead>\n",
       "    <tr style=\"text-align: right;\">\n",
       "      <th></th>\n",
       "      <th>rental_id</th>\n",
       "      <th>rental_date</th>\n",
       "      <th>inventory_id</th>\n",
       "      <th>customer_id</th>\n",
       "      <th>return_date</th>\n",
       "      <th>staff_id</th>\n",
       "      <th>last_update</th>\n",
       "      <th>film_id</th>\n",
       "    </tr>\n",
       "  </thead>\n",
       "  <tbody>\n",
       "    <tr>\n",
       "      <th>0</th>\n",
       "      <td>1</td>\n",
       "      <td>2005-05-24 22:53:30</td>\n",
       "      <td>367</td>\n",
       "      <td>130</td>\n",
       "      <td>2005-05-26 22:04:30</td>\n",
       "      <td>1</td>\n",
       "      <td>2006-02-15 21:30:53</td>\n",
       "      <td>80</td>\n",
       "    </tr>\n",
       "    <tr>\n",
       "      <th>1</th>\n",
       "      <td>2</td>\n",
       "      <td>2005-05-24 22:54:33</td>\n",
       "      <td>1525</td>\n",
       "      <td>459</td>\n",
       "      <td>2005-05-28 19:40:33</td>\n",
       "      <td>1</td>\n",
       "      <td>2006-02-15 21:30:53</td>\n",
       "      <td>333</td>\n",
       "    </tr>\n",
       "  </tbody>\n",
       "</table>\n",
       "</div>"
      ],
      "text/plain": [
       "   rental_id         rental_date  inventory_id  customer_id  \\\n",
       "0          1 2005-05-24 22:53:30           367          130   \n",
       "1          2 2005-05-24 22:54:33          1525          459   \n",
       "\n",
       "          return_date  staff_id         last_update  film_id  \n",
       "0 2005-05-26 22:04:30         1 2006-02-15 21:30:53       80  \n",
       "1 2005-05-28 19:40:33         1 2006-02-15 21:30:53      333  "
      ]
     },
     "execution_count": 62,
     "metadata": {},
     "output_type": "execute_result"
    }
   ],
   "source": [
    "# need to match rentals with their film id\n",
    "df_rental = pd.merge(df_rental, df_inventory, on='inventory_id', how='left') \n",
    "df_rental.head(2)"
   ]
  },
  {
   "cell_type": "markdown",
   "id": "6d7bd574-7537-44a6-9ec4-9385568bf03e",
   "metadata": {},
   "source": [
    "#### Combine rental and payment table data to get all transaction data in fact table"
   ]
  },
  {
   "cell_type": "code",
   "execution_count": 65,
   "id": "887705e6-6cab-4a60-afa3-00faeebaa437",
   "metadata": {},
   "outputs": [
    {
     "data": {
      "text/html": [
       "<div>\n",
       "<style scoped>\n",
       "    .dataframe tbody tr th:only-of-type {\n",
       "        vertical-align: middle;\n",
       "    }\n",
       "\n",
       "    .dataframe tbody tr th {\n",
       "        vertical-align: top;\n",
       "    }\n",
       "\n",
       "    .dataframe thead th {\n",
       "        text-align: right;\n",
       "    }\n",
       "</style>\n",
       "<table border=\"1\" class=\"dataframe\">\n",
       "  <thead>\n",
       "    <tr style=\"text-align: right;\">\n",
       "      <th></th>\n",
       "      <th>rental_id</th>\n",
       "      <th>rental_date</th>\n",
       "      <th>inventory_id</th>\n",
       "      <th>customer_id</th>\n",
       "      <th>return_date</th>\n",
       "      <th>staff_id</th>\n",
       "      <th>last_update</th>\n",
       "      <th>film_id</th>\n",
       "      <th>payment_id</th>\n",
       "      <th>amount</th>\n",
       "      <th>payment_date</th>\n",
       "    </tr>\n",
       "  </thead>\n",
       "  <tbody>\n",
       "    <tr>\n",
       "      <th>0</th>\n",
       "      <td>1</td>\n",
       "      <td>2005-05-24 22:53:30</td>\n",
       "      <td>367</td>\n",
       "      <td>130</td>\n",
       "      <td>2005-05-26 22:04:30</td>\n",
       "      <td>1</td>\n",
       "      <td>2006-02-15 21:30:53</td>\n",
       "      <td>80</td>\n",
       "      <td>3504</td>\n",
       "      <td>2.99</td>\n",
       "      <td>2005-05-24 22:53:30</td>\n",
       "    </tr>\n",
       "    <tr>\n",
       "      <th>1</th>\n",
       "      <td>2</td>\n",
       "      <td>2005-05-24 22:54:33</td>\n",
       "      <td>1525</td>\n",
       "      <td>459</td>\n",
       "      <td>2005-05-28 19:40:33</td>\n",
       "      <td>1</td>\n",
       "      <td>2006-02-15 21:30:53</td>\n",
       "      <td>333</td>\n",
       "      <td>12377</td>\n",
       "      <td>2.99</td>\n",
       "      <td>2005-05-24 22:54:33</td>\n",
       "    </tr>\n",
       "  </tbody>\n",
       "</table>\n",
       "</div>"
      ],
      "text/plain": [
       "   rental_id         rental_date  inventory_id  customer_id  \\\n",
       "0          1 2005-05-24 22:53:30           367          130   \n",
       "1          2 2005-05-24 22:54:33          1525          459   \n",
       "\n",
       "          return_date  staff_id         last_update  film_id  payment_id  \\\n",
       "0 2005-05-26 22:04:30         1 2006-02-15 21:30:53       80        3504   \n",
       "1 2005-05-28 19:40:33         1 2006-02-15 21:30:53      333       12377   \n",
       "\n",
       "   amount        payment_date  \n",
       "0    2.99 2005-05-24 22:53:30  \n",
       "1    2.99 2005-05-24 22:54:33  "
      ]
     },
     "execution_count": 65,
     "metadata": {},
     "output_type": "execute_result"
    }
   ],
   "source": [
    "df_fact_rentals = pd.merge(df_rental, df_payment, on='rental_id', how='left') \n",
    "df_fact_rentals.head(2)"
   ]
  },
  {
   "cell_type": "markdown",
   "id": "2adbedc7-9463-430b-96cc-304569380b5a",
   "metadata": {},
   "source": [
    "### Fetch surrogate primary key and business key from each of the dimension tables"
   ]
  },
  {
   "cell_type": "code",
   "execution_count": 67,
   "id": "80931913-d8f2-4e90-8492-3cc5b82ade41",
   "metadata": {},
   "outputs": [
    {
     "data": {
      "text/html": [
       "<div>\n",
       "<style scoped>\n",
       "    .dataframe tbody tr th:only-of-type {\n",
       "        vertical-align: middle;\n",
       "    }\n",
       "\n",
       "    .dataframe tbody tr th {\n",
       "        vertical-align: top;\n",
       "    }\n",
       "\n",
       "    .dataframe thead th {\n",
       "        text-align: right;\n",
       "    }\n",
       "</style>\n",
       "<table border=\"1\" class=\"dataframe\">\n",
       "  <thead>\n",
       "    <tr style=\"text-align: right;\">\n",
       "      <th></th>\n",
       "      <th>customer_key</th>\n",
       "      <th>customer_id</th>\n",
       "    </tr>\n",
       "  </thead>\n",
       "  <tbody>\n",
       "    <tr>\n",
       "      <th>0</th>\n",
       "      <td>1</td>\n",
       "      <td>1</td>\n",
       "    </tr>\n",
       "    <tr>\n",
       "      <th>1</th>\n",
       "      <td>2</td>\n",
       "      <td>2</td>\n",
       "    </tr>\n",
       "  </tbody>\n",
       "</table>\n",
       "</div>"
      ],
      "text/plain": [
       "   customer_key  customer_id\n",
       "0             1            1\n",
       "1             2            2"
      ]
     },
     "execution_count": 67,
     "metadata": {},
     "output_type": "execute_result"
    }
   ],
   "source": [
    "# Select 'customer_key' and 'customer_id' from sakila_dw.dim_customer\n",
    "sql_dim_customer = \"SELECT customer_key, customer_id FROM sakila_dw.dim_customer;\"\n",
    "df_dim_customer = get_dataframe(user_id, pwd, host_name, src_dbname, sql_dim_customer)\n",
    "df_dim_customer.head(2)"
   ]
  },
  {
   "cell_type": "code",
   "execution_count": 69,
   "id": "a9c0fe7e-126e-4ebf-a560-b2e4e5cab498",
   "metadata": {},
   "outputs": [
    {
     "data": {
      "text/html": [
       "<div>\n",
       "<style scoped>\n",
       "    .dataframe tbody tr th:only-of-type {\n",
       "        vertical-align: middle;\n",
       "    }\n",
       "\n",
       "    .dataframe tbody tr th {\n",
       "        vertical-align: top;\n",
       "    }\n",
       "\n",
       "    .dataframe thead th {\n",
       "        text-align: right;\n",
       "    }\n",
       "</style>\n",
       "<table border=\"1\" class=\"dataframe\">\n",
       "  <thead>\n",
       "    <tr style=\"text-align: right;\">\n",
       "      <th></th>\n",
       "      <th>film_key</th>\n",
       "      <th>film_id</th>\n",
       "    </tr>\n",
       "  </thead>\n",
       "  <tbody>\n",
       "    <tr>\n",
       "      <th>0</th>\n",
       "      <td>1</td>\n",
       "      <td>1</td>\n",
       "    </tr>\n",
       "    <tr>\n",
       "      <th>1</th>\n",
       "      <td>2</td>\n",
       "      <td>2</td>\n",
       "    </tr>\n",
       "  </tbody>\n",
       "</table>\n",
       "</div>"
      ],
      "text/plain": [
       "   film_key  film_id\n",
       "0         1        1\n",
       "1         2        2"
      ]
     },
     "execution_count": 69,
     "metadata": {},
     "output_type": "execute_result"
    }
   ],
   "source": [
    "# Select 'film_key' and 'film_id' from sakila_dw.dim_film\n",
    "sql_dim_film = \"SELECT film_key, film_id FROM sakila_dw.dim_film;\"\n",
    "df_dim_film = get_dataframe(user_id, pwd, host_name, src_dbname, sql_dim_film)\n",
    "df_dim_film.head(2)"
   ]
  },
  {
   "cell_type": "markdown",
   "id": "73fe8813-ffbc-4e10-8a5b-65a77e4838ac",
   "metadata": {},
   "source": [
    "### Perform lookup operations to replace business codes in fact df with surrogate primary keys from each dim table"
   ]
  },
  {
   "cell_type": "code",
   "execution_count": 71,
   "id": "0b790ef1-c641-46dc-90c9-905f854b9c9a",
   "metadata": {},
   "outputs": [
    {
     "data": {
      "text/html": [
       "<div>\n",
       "<style scoped>\n",
       "    .dataframe tbody tr th:only-of-type {\n",
       "        vertical-align: middle;\n",
       "    }\n",
       "\n",
       "    .dataframe tbody tr th {\n",
       "        vertical-align: top;\n",
       "    }\n",
       "\n",
       "    .dataframe thead th {\n",
       "        text-align: right;\n",
       "    }\n",
       "</style>\n",
       "<table border=\"1\" class=\"dataframe\">\n",
       "  <thead>\n",
       "    <tr style=\"text-align: right;\">\n",
       "      <th></th>\n",
       "      <th>rental_id</th>\n",
       "      <th>rental_date</th>\n",
       "      <th>inventory_id</th>\n",
       "      <th>return_date</th>\n",
       "      <th>staff_id</th>\n",
       "      <th>last_update</th>\n",
       "      <th>film_id</th>\n",
       "      <th>payment_id</th>\n",
       "      <th>amount</th>\n",
       "      <th>payment_date</th>\n",
       "      <th>customer_key</th>\n",
       "    </tr>\n",
       "  </thead>\n",
       "  <tbody>\n",
       "    <tr>\n",
       "      <th>0</th>\n",
       "      <td>1</td>\n",
       "      <td>2005-05-24 22:53:30</td>\n",
       "      <td>367</td>\n",
       "      <td>2005-05-26 22:04:30</td>\n",
       "      <td>1</td>\n",
       "      <td>2006-02-15 21:30:53</td>\n",
       "      <td>80</td>\n",
       "      <td>3504</td>\n",
       "      <td>2.99</td>\n",
       "      <td>2005-05-24 22:53:30</td>\n",
       "      <td>130</td>\n",
       "    </tr>\n",
       "    <tr>\n",
       "      <th>1</th>\n",
       "      <td>2</td>\n",
       "      <td>2005-05-24 22:54:33</td>\n",
       "      <td>1525</td>\n",
       "      <td>2005-05-28 19:40:33</td>\n",
       "      <td>1</td>\n",
       "      <td>2006-02-15 21:30:53</td>\n",
       "      <td>333</td>\n",
       "      <td>12377</td>\n",
       "      <td>2.99</td>\n",
       "      <td>2005-05-24 22:54:33</td>\n",
       "      <td>459</td>\n",
       "    </tr>\n",
       "  </tbody>\n",
       "</table>\n",
       "</div>"
      ],
      "text/plain": [
       "   rental_id         rental_date  inventory_id         return_date  staff_id  \\\n",
       "0          1 2005-05-24 22:53:30           367 2005-05-26 22:04:30         1   \n",
       "1          2 2005-05-24 22:54:33          1525 2005-05-28 19:40:33         1   \n",
       "\n",
       "          last_update  film_id  payment_id  amount        payment_date  \\\n",
       "0 2006-02-15 21:30:53       80        3504    2.99 2005-05-24 22:53:30   \n",
       "1 2006-02-15 21:30:53      333       12377    2.99 2005-05-24 22:54:33   \n",
       "\n",
       "   customer_key  \n",
       "0           130  \n",
       "1           459  "
      ]
     },
     "execution_count": 71,
     "metadata": {},
     "output_type": "execute_result"
    }
   ],
   "source": [
    "# Customers dimension\n",
    "df_fact_rentals = pd.merge(df_fact_rentals, df_dim_customer, on='customer_id', how='inner')\n",
    "df_fact_rentals.drop(['customer_id'], axis=1, inplace=True)\n",
    "df_fact_rentals.head(2)"
   ]
  },
  {
   "cell_type": "code",
   "execution_count": 73,
   "id": "0710a880-f1ee-4ae3-8239-b62bd9a49205",
   "metadata": {},
   "outputs": [
    {
     "data": {
      "text/html": [
       "<div>\n",
       "<style scoped>\n",
       "    .dataframe tbody tr th:only-of-type {\n",
       "        vertical-align: middle;\n",
       "    }\n",
       "\n",
       "    .dataframe tbody tr th {\n",
       "        vertical-align: top;\n",
       "    }\n",
       "\n",
       "    .dataframe thead th {\n",
       "        text-align: right;\n",
       "    }\n",
       "</style>\n",
       "<table border=\"1\" class=\"dataframe\">\n",
       "  <thead>\n",
       "    <tr style=\"text-align: right;\">\n",
       "      <th></th>\n",
       "      <th>rental_id</th>\n",
       "      <th>rental_date</th>\n",
       "      <th>inventory_id</th>\n",
       "      <th>return_date</th>\n",
       "      <th>staff_id</th>\n",
       "      <th>last_update</th>\n",
       "      <th>payment_id</th>\n",
       "      <th>amount</th>\n",
       "      <th>payment_date</th>\n",
       "      <th>customer_key</th>\n",
       "      <th>film_key</th>\n",
       "    </tr>\n",
       "  </thead>\n",
       "  <tbody>\n",
       "    <tr>\n",
       "      <th>0</th>\n",
       "      <td>1</td>\n",
       "      <td>2005-05-24 22:53:30</td>\n",
       "      <td>367</td>\n",
       "      <td>2005-05-26 22:04:30</td>\n",
       "      <td>1</td>\n",
       "      <td>2006-02-15 21:30:53</td>\n",
       "      <td>3504</td>\n",
       "      <td>2.99</td>\n",
       "      <td>2005-05-24 22:53:30</td>\n",
       "      <td>130</td>\n",
       "      <td>80</td>\n",
       "    </tr>\n",
       "    <tr>\n",
       "      <th>1</th>\n",
       "      <td>2</td>\n",
       "      <td>2005-05-24 22:54:33</td>\n",
       "      <td>1525</td>\n",
       "      <td>2005-05-28 19:40:33</td>\n",
       "      <td>1</td>\n",
       "      <td>2006-02-15 21:30:53</td>\n",
       "      <td>12377</td>\n",
       "      <td>2.99</td>\n",
       "      <td>2005-05-24 22:54:33</td>\n",
       "      <td>459</td>\n",
       "      <td>333</td>\n",
       "    </tr>\n",
       "  </tbody>\n",
       "</table>\n",
       "</div>"
      ],
      "text/plain": [
       "   rental_id         rental_date  inventory_id         return_date  staff_id  \\\n",
       "0          1 2005-05-24 22:53:30           367 2005-05-26 22:04:30         1   \n",
       "1          2 2005-05-24 22:54:33          1525 2005-05-28 19:40:33         1   \n",
       "\n",
       "          last_update  payment_id  amount        payment_date  customer_key  \\\n",
       "0 2006-02-15 21:30:53        3504    2.99 2005-05-24 22:53:30           130   \n",
       "1 2006-02-15 21:30:53       12377    2.99 2005-05-24 22:54:33           459   \n",
       "\n",
       "   film_key  \n",
       "0        80  \n",
       "1       333  "
      ]
     },
     "execution_count": 73,
     "metadata": {},
     "output_type": "execute_result"
    }
   ],
   "source": [
    "# Film dimension\n",
    "df_fact_rentals = pd.merge(df_fact_rentals, df_dim_film, on='film_id', how='inner')\n",
    "df_fact_rentals.drop(['film_id'], axis=1, inplace=True)\n",
    "df_fact_rentals.head(2)"
   ]
  },
  {
   "cell_type": "markdown",
   "id": "fec6c4d0-0e82-45f5-a103-e11db9f34a35",
   "metadata": {},
   "source": [
    "### Replacing datetime values with date keys from dim_date table"
   ]
  },
  {
   "cell_type": "markdown",
   "id": "feac824f-986a-4ca4-a9de-e97208a6564b",
   "metadata": {},
   "source": [
    "#### Fetch surrogate and business keys from dim date table"
   ]
  },
  {
   "cell_type": "code",
   "execution_count": 77,
   "id": "640c27b1-5936-4002-b951-13744d4af3bd",
   "metadata": {},
   "outputs": [
    {
     "data": {
      "text/html": [
       "<div>\n",
       "<style scoped>\n",
       "    .dataframe tbody tr th:only-of-type {\n",
       "        vertical-align: middle;\n",
       "    }\n",
       "\n",
       "    .dataframe tbody tr th {\n",
       "        vertical-align: top;\n",
       "    }\n",
       "\n",
       "    .dataframe thead th {\n",
       "        text-align: right;\n",
       "    }\n",
       "</style>\n",
       "<table border=\"1\" class=\"dataframe\">\n",
       "  <thead>\n",
       "    <tr style=\"text-align: right;\">\n",
       "      <th></th>\n",
       "      <th>date_key</th>\n",
       "      <th>full_date</th>\n",
       "    </tr>\n",
       "  </thead>\n",
       "  <tbody>\n",
       "    <tr>\n",
       "      <th>0</th>\n",
       "      <td>20050524</td>\n",
       "      <td>2005-05-24</td>\n",
       "    </tr>\n",
       "    <tr>\n",
       "      <th>1</th>\n",
       "      <td>20050525</td>\n",
       "      <td>2005-05-25</td>\n",
       "    </tr>\n",
       "  </tbody>\n",
       "</table>\n",
       "</div>"
      ],
      "text/plain": [
       "   date_key   full_date\n",
       "0  20050524  2005-05-24\n",
       "1  20050525  2005-05-25"
      ]
     },
     "execution_count": 77,
     "metadata": {},
     "output_type": "execute_result"
    }
   ],
   "source": [
    "sql_dim_date = \"SELECT date_key, full_date FROM sakila_dw.dim_date;\"\n",
    "df_dim_date = get_dataframe(user_id, pwd, host_name, src_dbname, sql_dim_date)\n",
    "df_dim_date.full_date = df_dim_date.full_date.astype('datetime64[ns]').dt.date\n",
    "df_dim_date.head(2)"
   ]
  },
  {
   "cell_type": "markdown",
   "id": "30ec2d6e-2e59-40c5-b629-2530a8997d08",
   "metadata": {},
   "source": [
    "#### Lookup surrogate key that corresponds to each date column"
   ]
  },
  {
   "cell_type": "code",
   "execution_count": 79,
   "id": "562dcca6-007a-4980-b795-26941c84b1bd",
   "metadata": {},
   "outputs": [
    {
     "data": {
      "text/html": [
       "<div>\n",
       "<style scoped>\n",
       "    .dataframe tbody tr th:only-of-type {\n",
       "        vertical-align: middle;\n",
       "    }\n",
       "\n",
       "    .dataframe tbody tr th {\n",
       "        vertical-align: top;\n",
       "    }\n",
       "\n",
       "    .dataframe thead th {\n",
       "        text-align: right;\n",
       "    }\n",
       "</style>\n",
       "<table border=\"1\" class=\"dataframe\">\n",
       "  <thead>\n",
       "    <tr style=\"text-align: right;\">\n",
       "      <th></th>\n",
       "      <th>rental_id</th>\n",
       "      <th>inventory_id</th>\n",
       "      <th>return_date</th>\n",
       "      <th>staff_id</th>\n",
       "      <th>last_update</th>\n",
       "      <th>payment_id</th>\n",
       "      <th>amount</th>\n",
       "      <th>payment_date</th>\n",
       "      <th>customer_key</th>\n",
       "      <th>film_key</th>\n",
       "      <th>rental_date_key</th>\n",
       "    </tr>\n",
       "  </thead>\n",
       "  <tbody>\n",
       "    <tr>\n",
       "      <th>0</th>\n",
       "      <td>1</td>\n",
       "      <td>367</td>\n",
       "      <td>2005-05-26 22:04:30</td>\n",
       "      <td>1</td>\n",
       "      <td>2006-02-15 21:30:53</td>\n",
       "      <td>3504</td>\n",
       "      <td>2.99</td>\n",
       "      <td>2005-05-24 22:53:30</td>\n",
       "      <td>130</td>\n",
       "      <td>80</td>\n",
       "      <td>20050524</td>\n",
       "    </tr>\n",
       "    <tr>\n",
       "      <th>1</th>\n",
       "      <td>2</td>\n",
       "      <td>1525</td>\n",
       "      <td>2005-05-28 19:40:33</td>\n",
       "      <td>1</td>\n",
       "      <td>2006-02-15 21:30:53</td>\n",
       "      <td>12377</td>\n",
       "      <td>2.99</td>\n",
       "      <td>2005-05-24 22:54:33</td>\n",
       "      <td>459</td>\n",
       "      <td>333</td>\n",
       "      <td>20050524</td>\n",
       "    </tr>\n",
       "  </tbody>\n",
       "</table>\n",
       "</div>"
      ],
      "text/plain": [
       "   rental_id  inventory_id         return_date  staff_id         last_update  \\\n",
       "0          1           367 2005-05-26 22:04:30         1 2006-02-15 21:30:53   \n",
       "1          2          1525 2005-05-28 19:40:33         1 2006-02-15 21:30:53   \n",
       "\n",
       "   payment_id  amount        payment_date  customer_key  film_key  \\\n",
       "0        3504    2.99 2005-05-24 22:53:30           130        80   \n",
       "1       12377    2.99 2005-05-24 22:54:33           459       333   \n",
       "\n",
       "   rental_date_key  \n",
       "0         20050524  \n",
       "1         20050524  "
      ]
     },
     "execution_count": 79,
     "metadata": {},
     "output_type": "execute_result"
    }
   ],
   "source": [
    "# Rental date\n",
    "df_dim_rental_date = df_dim_date.rename(columns={\"date_key\" : \"rental_date_key\", \"full_date\" : \"rental_date\"})\n",
    "df_fact_rentals.rental_date = df_fact_rentals.rental_date.astype('datetime64[ns]').dt.date\n",
    "\n",
    "df_fact_rentals = pd.merge(df_fact_rentals, df_dim_rental_date, on='rental_date', how='left')\n",
    "df_fact_rentals.drop(['rental_date'], axis=1, inplace=True)\n",
    "df_fact_rentals.head(2)"
   ]
  },
  {
   "cell_type": "code",
   "execution_count": 81,
   "id": "958f082a-e327-4721-9028-fb44f514a4f0",
   "metadata": {},
   "outputs": [
    {
     "data": {
      "text/html": [
       "<div>\n",
       "<style scoped>\n",
       "    .dataframe tbody tr th:only-of-type {\n",
       "        vertical-align: middle;\n",
       "    }\n",
       "\n",
       "    .dataframe tbody tr th {\n",
       "        vertical-align: top;\n",
       "    }\n",
       "\n",
       "    .dataframe thead th {\n",
       "        text-align: right;\n",
       "    }\n",
       "</style>\n",
       "<table border=\"1\" class=\"dataframe\">\n",
       "  <thead>\n",
       "    <tr style=\"text-align: right;\">\n",
       "      <th></th>\n",
       "      <th>rental_id</th>\n",
       "      <th>inventory_id</th>\n",
       "      <th>staff_id</th>\n",
       "      <th>last_update</th>\n",
       "      <th>payment_id</th>\n",
       "      <th>amount</th>\n",
       "      <th>payment_date</th>\n",
       "      <th>customer_key</th>\n",
       "      <th>film_key</th>\n",
       "      <th>rental_date_key</th>\n",
       "      <th>return_date_key</th>\n",
       "    </tr>\n",
       "  </thead>\n",
       "  <tbody>\n",
       "    <tr>\n",
       "      <th>0</th>\n",
       "      <td>1</td>\n",
       "      <td>367</td>\n",
       "      <td>1</td>\n",
       "      <td>2006-02-15 21:30:53</td>\n",
       "      <td>3504</td>\n",
       "      <td>2.99</td>\n",
       "      <td>2005-05-24 22:53:30</td>\n",
       "      <td>130</td>\n",
       "      <td>80</td>\n",
       "      <td>20050524</td>\n",
       "      <td>20050526.0</td>\n",
       "    </tr>\n",
       "    <tr>\n",
       "      <th>1</th>\n",
       "      <td>2</td>\n",
       "      <td>1525</td>\n",
       "      <td>1</td>\n",
       "      <td>2006-02-15 21:30:53</td>\n",
       "      <td>12377</td>\n",
       "      <td>2.99</td>\n",
       "      <td>2005-05-24 22:54:33</td>\n",
       "      <td>459</td>\n",
       "      <td>333</td>\n",
       "      <td>20050524</td>\n",
       "      <td>20050528.0</td>\n",
       "    </tr>\n",
       "  </tbody>\n",
       "</table>\n",
       "</div>"
      ],
      "text/plain": [
       "   rental_id  inventory_id  staff_id         last_update  payment_id  amount  \\\n",
       "0          1           367         1 2006-02-15 21:30:53        3504    2.99   \n",
       "1          2          1525         1 2006-02-15 21:30:53       12377    2.99   \n",
       "\n",
       "         payment_date  customer_key  film_key  rental_date_key  \\\n",
       "0 2005-05-24 22:53:30           130        80         20050524   \n",
       "1 2005-05-24 22:54:33           459       333         20050524   \n",
       "\n",
       "   return_date_key  \n",
       "0       20050526.0  \n",
       "1       20050528.0  "
      ]
     },
     "execution_count": 81,
     "metadata": {},
     "output_type": "execute_result"
    }
   ],
   "source": [
    "# return date\n",
    "df_dim_return_date = df_dim_date.rename(columns={\"date_key\" : \"return_date_key\", \"full_date\" : \"return_date\"})\n",
    "df_fact_rentals.return_date = df_fact_rentals.return_date.astype('datetime64[ns]').dt.date\n",
    "\n",
    "df_fact_rentals = pd.merge(df_fact_rentals, df_dim_return_date, on='return_date', how='left')\n",
    "df_fact_rentals.drop(['return_date'], axis=1, inplace=True)\n",
    "df_fact_rentals.head(2)"
   ]
  },
  {
   "cell_type": "code",
   "execution_count": 83,
   "id": "4a2926aa-8b5a-4eea-b2fe-e5e2399feef9",
   "metadata": {},
   "outputs": [
    {
     "data": {
      "text/html": [
       "<div>\n",
       "<style scoped>\n",
       "    .dataframe tbody tr th:only-of-type {\n",
       "        vertical-align: middle;\n",
       "    }\n",
       "\n",
       "    .dataframe tbody tr th {\n",
       "        vertical-align: top;\n",
       "    }\n",
       "\n",
       "    .dataframe thead th {\n",
       "        text-align: right;\n",
       "    }\n",
       "</style>\n",
       "<table border=\"1\" class=\"dataframe\">\n",
       "  <thead>\n",
       "    <tr style=\"text-align: right;\">\n",
       "      <th></th>\n",
       "      <th>rental_id</th>\n",
       "      <th>inventory_id</th>\n",
       "      <th>staff_id</th>\n",
       "      <th>last_update</th>\n",
       "      <th>payment_id</th>\n",
       "      <th>amount</th>\n",
       "      <th>customer_key</th>\n",
       "      <th>film_key</th>\n",
       "      <th>rental_date_key</th>\n",
       "      <th>return_date_key</th>\n",
       "      <th>payment_date_key</th>\n",
       "    </tr>\n",
       "  </thead>\n",
       "  <tbody>\n",
       "    <tr>\n",
       "      <th>0</th>\n",
       "      <td>1</td>\n",
       "      <td>367</td>\n",
       "      <td>1</td>\n",
       "      <td>2006-02-15 21:30:53</td>\n",
       "      <td>3504</td>\n",
       "      <td>2.99</td>\n",
       "      <td>130</td>\n",
       "      <td>80</td>\n",
       "      <td>20050524</td>\n",
       "      <td>20050526.0</td>\n",
       "      <td>20050524</td>\n",
       "    </tr>\n",
       "    <tr>\n",
       "      <th>1</th>\n",
       "      <td>2</td>\n",
       "      <td>1525</td>\n",
       "      <td>1</td>\n",
       "      <td>2006-02-15 21:30:53</td>\n",
       "      <td>12377</td>\n",
       "      <td>2.99</td>\n",
       "      <td>459</td>\n",
       "      <td>333</td>\n",
       "      <td>20050524</td>\n",
       "      <td>20050528.0</td>\n",
       "      <td>20050524</td>\n",
       "    </tr>\n",
       "  </tbody>\n",
       "</table>\n",
       "</div>"
      ],
      "text/plain": [
       "   rental_id  inventory_id  staff_id         last_update  payment_id  amount  \\\n",
       "0          1           367         1 2006-02-15 21:30:53        3504    2.99   \n",
       "1          2          1525         1 2006-02-15 21:30:53       12377    2.99   \n",
       "\n",
       "   customer_key  film_key  rental_date_key  return_date_key  payment_date_key  \n",
       "0           130        80         20050524       20050526.0          20050524  \n",
       "1           459       333         20050524       20050528.0          20050524  "
      ]
     },
     "execution_count": 83,
     "metadata": {},
     "output_type": "execute_result"
    }
   ],
   "source": [
    "# payment date\n",
    "df_dim_payment_date = df_dim_date.rename(columns={\"date_key\" : \"payment_date_key\", \"full_date\" : \"payment_date\"})\n",
    "df_fact_rentals.payment_date = df_fact_rentals.payment_date.astype('datetime64[ns]').dt.date\n",
    "\n",
    "df_fact_rentals = pd.merge(df_fact_rentals, df_dim_payment_date, on='payment_date', how='left')\n",
    "df_fact_rentals.drop(['payment_date'], axis=1, inplace=True)\n",
    "df_fact_rentals.head(2)"
   ]
  },
  {
   "cell_type": "markdown",
   "id": "0db9b0dc-1b54-45c2-bd33-b38a499a45d9",
   "metadata": {},
   "source": [
    "### Perform any additional transformations (drop unwanted columns, reorder columns, and create new primary key)"
   ]
  },
  {
   "cell_type": "code",
   "execution_count": 86,
   "id": "7b3a68c6-5153-4ac9-aedf-d42242b43ff3",
   "metadata": {},
   "outputs": [
    {
     "data": {
      "text/html": [
       "<div>\n",
       "<style scoped>\n",
       "    .dataframe tbody tr th:only-of-type {\n",
       "        vertical-align: middle;\n",
       "    }\n",
       "\n",
       "    .dataframe tbody tr th {\n",
       "        vertical-align: top;\n",
       "    }\n",
       "\n",
       "    .dataframe thead th {\n",
       "        text-align: right;\n",
       "    }\n",
       "</style>\n",
       "<table border=\"1\" class=\"dataframe\">\n",
       "  <thead>\n",
       "    <tr style=\"text-align: right;\">\n",
       "      <th></th>\n",
       "      <th>fact_rental_key</th>\n",
       "      <th>rental_id</th>\n",
       "      <th>payment_id</th>\n",
       "      <th>customer_key</th>\n",
       "      <th>film_key</th>\n",
       "      <th>inventory_id</th>\n",
       "      <th>rental_date_key</th>\n",
       "      <th>return_date_key</th>\n",
       "      <th>payment_date_key</th>\n",
       "      <th>amount</th>\n",
       "    </tr>\n",
       "  </thead>\n",
       "  <tbody>\n",
       "    <tr>\n",
       "      <th>0</th>\n",
       "      <td>1</td>\n",
       "      <td>1</td>\n",
       "      <td>3504</td>\n",
       "      <td>130</td>\n",
       "      <td>80</td>\n",
       "      <td>367</td>\n",
       "      <td>20050524</td>\n",
       "      <td>20050526.0</td>\n",
       "      <td>20050524</td>\n",
       "      <td>2.99</td>\n",
       "    </tr>\n",
       "    <tr>\n",
       "      <th>1</th>\n",
       "      <td>2</td>\n",
       "      <td>2</td>\n",
       "      <td>12377</td>\n",
       "      <td>459</td>\n",
       "      <td>333</td>\n",
       "      <td>1525</td>\n",
       "      <td>20050524</td>\n",
       "      <td>20050528.0</td>\n",
       "      <td>20050524</td>\n",
       "      <td>2.99</td>\n",
       "    </tr>\n",
       "  </tbody>\n",
       "</table>\n",
       "</div>"
      ],
      "text/plain": [
       "   fact_rental_key  rental_id  payment_id  customer_key  film_key  \\\n",
       "0                1          1        3504           130        80   \n",
       "1                2          2       12377           459       333   \n",
       "\n",
       "   inventory_id  rental_date_key  return_date_key  payment_date_key  amount  \n",
       "0           367         20050524       20050526.0          20050524    2.99  \n",
       "1          1525         20050524       20050528.0          20050524    2.99  "
      ]
     },
     "execution_count": 86,
     "metadata": {},
     "output_type": "execute_result"
    }
   ],
   "source": [
    "# 1. Drop the columns of no particular interest\n",
    "drop_columns = ['staff_id','last_update']\n",
    "df_fact_rentals.drop(drop_columns, axis=1, inplace=True)\n",
    "                \n",
    "# 2. Reorder the remaining columns\n",
    "ordered_columns = ['rental_id', 'payment_id', 'customer_key', 'film_key', 'inventory_id',\n",
    "                   'rental_date_key', 'return_date_key', 'payment_date_key', 'amount']\n",
    "df_fact_rentals = df_fact_rentals[ordered_columns]\n",
    "                \n",
    "# 3. Insert a new column, with an ever-incrementing numeric value, to serve as the primary key.\n",
    "df_fact_rentals.insert(0, 'fact_rental_key', range(1, df_fact_rentals.shape[0]+1))\n",
    "                \n",
    "# 4. Display the first 2 rows of the dataframe to validate your work\n",
    "df_fact_rentals.head(2)"
   ]
  },
  {
   "cell_type": "markdown",
   "id": "745175e3-ca8c-4b05-aacb-df690859018a",
   "metadata": {},
   "source": [
    "### Write the dataframe back to the database"
   ]
  },
  {
   "cell_type": "code",
   "execution_count": 89,
   "id": "8ff35174-58e0-4a59-9dc4-1b4ba90fc385",
   "metadata": {},
   "outputs": [],
   "source": [
    "table_name = \"fact_rentals\"\n",
    "primary_key = \"fact_rental_key\"\n",
    "db_operation = \"insert\"\n",
    "\n",
    "set_dataframe(user_id, pwd, host_name, dst_dbname, df_fact_rentals, table_name, primary_key, db_operation)"
   ]
  },
  {
   "cell_type": "markdown",
   "id": "933d052f-93fe-41c2-8cd6-441a111bf5d0",
   "metadata": {},
   "source": [
    "### Demonstrate that sakila data warehouse exists with queries"
   ]
  },
  {
   "cell_type": "markdown",
   "id": "895637bc-81fd-4978-9834-a156e0f3c5a6",
   "metadata": {},
   "source": [
    "#### A SQL Query that shows the most popular movie:\n",
    "* Each Movie Title\n",
    "* The total amount of customers who rented that movie\n",
    "* The total amount of money spent on that movie from all payments"
   ]
  },
  {
   "cell_type": "code",
   "execution_count": 91,
   "id": "1dc021a2-37c0-4899-9c45-39c87bf6d734",
   "metadata": {},
   "outputs": [],
   "source": [
    "sql_test = \"\"\"\n",
    "    SELECT films.`film_title` AS `Film Title`,\n",
    "        COUNT(DISTINCT customers.`customer_id`) AS `Total Customers`,\n",
    "        SUM(rentals.`amount`) AS `Total Rental Payment Revenue`\n",
    "    FROM `sakila_dw`.`fact_rentals` AS rentals\n",
    "    INNER JOIN `sakila_dw`.`dim_film` AS films ON rentals.film_key = films.film_id\n",
    "    INNER JOIN `sakila_dw`.`dim_customer` AS customers ON rentals.customer_key = customers.customer_id\n",
    "    GROUP BY films.`film_title`\n",
    "    ORDER BY \n",
    "        `Total Customers` DESC,\n",
    "        `Total Rental Payment Revenue` DESC;\n",
    "\"\"\".format(dst_dbname)"
   ]
  },
  {
   "cell_type": "code",
   "execution_count": 93,
   "id": "ffbdc1b5-4ddb-4aed-a2b7-fd744509ac22",
   "metadata": {},
   "outputs": [
    {
     "data": {
      "text/html": [
       "<div>\n",
       "<style scoped>\n",
       "    .dataframe tbody tr th:only-of-type {\n",
       "        vertical-align: middle;\n",
       "    }\n",
       "\n",
       "    .dataframe tbody tr th {\n",
       "        vertical-align: top;\n",
       "    }\n",
       "\n",
       "    .dataframe thead th {\n",
       "        text-align: right;\n",
       "    }\n",
       "</style>\n",
       "<table border=\"1\" class=\"dataframe\">\n",
       "  <thead>\n",
       "    <tr style=\"text-align: right;\">\n",
       "      <th></th>\n",
       "      <th>Film Title</th>\n",
       "      <th>Total Customers</th>\n",
       "      <th>Total Rental Payment Revenue</th>\n",
       "    </tr>\n",
       "  </thead>\n",
       "  <tbody>\n",
       "    <tr>\n",
       "      <th>0</th>\n",
       "      <td>BUCKET BROTHERHOOD</td>\n",
       "      <td>33</td>\n",
       "      <td>180.66</td>\n",
       "    </tr>\n",
       "    <tr>\n",
       "      <th>1</th>\n",
       "      <td>SCALAWAG DUCK</td>\n",
       "      <td>32</td>\n",
       "      <td>172.68</td>\n",
       "    </tr>\n",
       "    <tr>\n",
       "      <th>2</th>\n",
       "      <td>RIDGEMONT SUBMARINE</td>\n",
       "      <td>32</td>\n",
       "      <td>130.68</td>\n",
       "    </tr>\n",
       "    <tr>\n",
       "      <th>3</th>\n",
       "      <td>FORWARD TEMPLE</td>\n",
       "      <td>32</td>\n",
       "      <td>128.68</td>\n",
       "    </tr>\n",
       "    <tr>\n",
       "      <th>4</th>\n",
       "      <td>GRIT CLOCKWORK</td>\n",
       "      <td>32</td>\n",
       "      <td>110.68</td>\n",
       "    </tr>\n",
       "  </tbody>\n",
       "</table>\n",
       "</div>"
      ],
      "text/plain": [
       "            Film Title  Total Customers  Total Rental Payment Revenue\n",
       "0   BUCKET BROTHERHOOD               33                        180.66\n",
       "1        SCALAWAG DUCK               32                        172.68\n",
       "2  RIDGEMONT SUBMARINE               32                        130.68\n",
       "3       FORWARD TEMPLE               32                        128.68\n",
       "4       GRIT CLOCKWORK               32                        110.68"
      ]
     },
     "execution_count": 93,
     "metadata": {},
     "output_type": "execute_result"
    }
   ],
   "source": [
    "df_test = get_dataframe(user_id, pwd, host_name, src_dbname, sql_test)\n",
    "df_test.head()"
   ]
  },
  {
   "cell_type": "markdown",
   "id": "d25c721e-24dd-4124-aacf-3e98f471d7ac",
   "metadata": {},
   "source": [
    "#### A SQL Query that shows the most popular genre:\n",
    "* Each Genre\n",
    "* The total amount of customers who rented that genre\n",
    "* The total amount of money spent on that genre"
   ]
  },
  {
   "cell_type": "code",
   "execution_count": 95,
   "id": "75b843f2-579a-4a95-848b-fd2e8c8d81b4",
   "metadata": {},
   "outputs": [],
   "source": [
    "sql_test2 = \"\"\"\n",
    "    SELECT films.`category_name` AS `Genre`,\n",
    "        COUNT(DISTINCT customers.`customer_id`) AS `Total Customers`,\n",
    "        SUM(rentals.`amount`) AS `Total Rental Payment Revenue`\n",
    "    FROM `sakila_dw`.`fact_rentals` AS rentals\n",
    "    INNER JOIN `sakila_dw`.`dim_film` AS films ON rentals.film_key = films.film_id\n",
    "    INNER JOIN `sakila_dw`.`dim_customer` AS customers ON rentals.customer_key = customers.customer_id\n",
    "    GROUP BY films.`category_name`\n",
    "    ORDER BY \n",
    "        `Total Customers` DESC,\n",
    "        `Total Rental Payment Revenue` DESC;\n",
    "\"\"\".format(dst_dbname)"
   ]
  },
  {
   "cell_type": "code",
   "execution_count": 97,
   "id": "a8cc5805-873b-44e4-862c-49a6553eb6a1",
   "metadata": {},
   "outputs": [
    {
     "data": {
      "text/html": [
       "<div>\n",
       "<style scoped>\n",
       "    .dataframe tbody tr th:only-of-type {\n",
       "        vertical-align: middle;\n",
       "    }\n",
       "\n",
       "    .dataframe tbody tr th {\n",
       "        vertical-align: top;\n",
       "    }\n",
       "\n",
       "    .dataframe thead th {\n",
       "        text-align: right;\n",
       "    }\n",
       "</style>\n",
       "<table border=\"1\" class=\"dataframe\">\n",
       "  <thead>\n",
       "    <tr style=\"text-align: right;\">\n",
       "      <th></th>\n",
       "      <th>Genre</th>\n",
       "      <th>Total Customers</th>\n",
       "      <th>Total Rental Payment Revenue</th>\n",
       "    </tr>\n",
       "  </thead>\n",
       "  <tbody>\n",
       "    <tr>\n",
       "      <th>0</th>\n",
       "      <td>Sports</td>\n",
       "      <td>519</td>\n",
       "      <td>5314.21</td>\n",
       "    </tr>\n",
       "    <tr>\n",
       "      <th>1</th>\n",
       "      <td>Action</td>\n",
       "      <td>510</td>\n",
       "      <td>4375.85</td>\n",
       "    </tr>\n",
       "    <tr>\n",
       "      <th>2</th>\n",
       "      <td>Sci-Fi</td>\n",
       "      <td>507</td>\n",
       "      <td>4756.98</td>\n",
       "    </tr>\n",
       "    <tr>\n",
       "      <th>3</th>\n",
       "      <td>Drama</td>\n",
       "      <td>501</td>\n",
       "      <td>4587.39</td>\n",
       "    </tr>\n",
       "    <tr>\n",
       "      <th>4</th>\n",
       "      <td>Family</td>\n",
       "      <td>501</td>\n",
       "      <td>4226.07</td>\n",
       "    </tr>\n",
       "  </tbody>\n",
       "</table>\n",
       "</div>"
      ],
      "text/plain": [
       "    Genre  Total Customers  Total Rental Payment Revenue\n",
       "0  Sports              519                       5314.21\n",
       "1  Action              510                       4375.85\n",
       "2  Sci-Fi              507                       4756.98\n",
       "3   Drama              501                       4587.39\n",
       "4  Family              501                       4226.07"
      ]
     },
     "execution_count": 97,
     "metadata": {},
     "output_type": "execute_result"
    }
   ],
   "source": [
    "df_test2 = get_dataframe(user_id, pwd, host_name, src_dbname, sql_test2)\n",
    "df_test2.head()"
   ]
  }
 ],
 "metadata": {
  "kernelspec": {
   "display_name": "Python 3 (ipykernel)",
   "language": "python",
   "name": "python3"
  },
  "language_info": {
   "codemirror_mode": {
    "name": "ipython",
    "version": 3
   },
   "file_extension": ".py",
   "mimetype": "text/x-python",
   "name": "python",
   "nbconvert_exporter": "python",
   "pygments_lexer": "ipython3",
   "version": "3.12.4"
  }
 },
 "nbformat": 4,
 "nbformat_minor": 5
}
